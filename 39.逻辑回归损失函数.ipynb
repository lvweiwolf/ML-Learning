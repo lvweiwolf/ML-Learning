{
 "nbformat": 4,
 "nbformat_minor": 2,
 "metadata": {
  "language_info": {
   "name": "python",
   "codemirror_mode": {
    "name": "ipython",
    "version": 3
   },
   "version": "3.7.3-final"
  },
  "orig_nbformat": 2,
  "file_extension": ".py",
  "mimetype": "text/x-python",
  "name": "python",
  "npconvert_exporter": "python",
  "pygments_lexer": "ipython3",
  "version": 3,
  "kernelspec": {
   "name": "python37364bit41788aecbabd4eb9b717571ff254e7d9",
   "display_name": "Python 3.7.3 64-bit"
  }
 },
 "cells": [
  {
   "cell_type": "markdown",
   "execution_count": null,
   "metadata": {},
   "outputs": [],
   "source": [
    "# 逻辑回归损失函数"
   ]
  },
  {
   "cell_type": "markdown",
   "execution_count": 2,
   "metadata": {},
   "outputs": [
    {
     "ename": "SyntaxError",
     "evalue": "invalid syntax (<ipython-input-2-4deead110540>, line 1)",
     "output_type": "error",
     "traceback": [
      "\u001b[1;36m  File \u001b[1;32m\"<ipython-input-2-4deead110540>\"\u001b[1;36m, line \u001b[1;32m1\u001b[0m\n\u001b[1;33m    $$\u001b[0m\n\u001b[1;37m    ^\u001b[0m\n\u001b[1;31mSyntaxError\u001b[0m\u001b[1;31m:\u001b[0m invalid syntax\n"
     ]
    }
   ],
   "source": [
    "$\n",
    "\\hat{p}=\\sigma\\left(\\theta^{T} \\cdot x_{b}\\right)=\\frac{1}{1+e^{-\\theta^{T} x_{b}}}\n",
    "$\n",
    "\n",
    "$\\hat{y}=\\left\\{\\begin{array}{ll}{1,} & {\\hat{p} \\geq 0.5} \\\\ {0,} & {\\hat{p} \\leq 0.5}\\end{array}\\right.$          $\\operatorname{cost}=\\left\\{\\begin{aligned}-\\log (\\hat{p}) & \\text { if } \\quad y=1 \\\\-\\log (1-\\hat{p}) & \\text { if } \\quad y=0 \\end{aligned}\\right.$"
   ]
  },
  {
   "cell_type": "markdown",
   "execution_count": null,
   "metadata": {},
   "outputs": [],
   "source": [
    "### 最终谁是函数：\n",
    "$\\operatorname{cost}=-y \\log (\\hat{p})-(1-y) \\log (1-\\hat{p})$\n",
    "\n",
    "$J(\\theta)=-\\frac{1}{m} \\sum_{i=1}^{m} y^{(i)} \\log \\left(\\hat{p}^{(i)}\\right)+\\left(1-y^{(i)}\\right) \\log \\left(1-\\hat{p}^{(i)}\\right)$\n",
    "\n",
    "### 其中：\n",
    "$\\hat{p}^{(i)}=\\sigma\\left(X_{b}^{(i)} \\theta\\right)=\\frac{1}{1+e^{-X_{b}^{(i)} \\theta}}$\n",
    "\n",
    "$J(\\theta)=-\\frac{1}{m} \\sum_{i=1}^{m} y^{(i)} \\log \\left(\\sigma\\left(X_{b}^{(i)} \\theta\\right)\\right)+\\left(1-y^{(i)}\\right) \\log \\left(1-\\sigma\\left(X_{b}^{(i)} \\theta\\right)\\right)$"
   ]
  },
  {
   "cell_type": "markdown",
   "execution_count": null,
   "metadata": {},
   "outputs": [],
   "source": [
    "# 逻辑回归损失函数的梯度下降"
   ]
  },
  {
   "cell_type": "markdown",
   "execution_count": null,
   "metadata": {},
   "outputs": [],
   "source": [
    "$J(\\theta)=-\\frac{1}{m} \\sum_{i=1}^{m} y^{(i)} \\log \\left(\\sigma\\left(X_{b}^{(i)} \\theta\\right)\\right)+\\left(1-y^{(i)}\\right) \\log \\left(1-\\sigma\\left(X_{b}^{(i)} \\theta\\right)\\right)$\n",
    "\n",
    "$\\sigma(t)=\\frac{1}{1+e^{-t}}=\\left(1+e^{-t}\\right)^{-1}$  $\\sigma(t)^{\\prime}=\\left(1+e^{-t}\\right)^{-2} \\cdot e^{-t}$\n",
    "\n",
    "$\\begin{aligned}(\\log \\sigma(t))^{\\prime} &=\\frac{1}{\\sigma(t)} \\cdot \\sigma(t)^{\\prime}=\\frac{1}{\\sigma(t)} \\cdot\\left(1+e^{-t}\\right)^{-2} \\cdot e^{-t} \\\\ &=\\frac{1}{\\left(1+e^{-t}\\right)^{-1}} \\cdot\\left(1+e^{-t}\\right)^{-2} \\cdot e^{-t} \\end{aligned}$\n",
    "\n",
    "$\\begin{aligned}(\\log (1-\\sigma(t)))^{\\prime}=\\frac{1}{1-\\sigma(t)} \\cdot(-1) \\cdot \\sigma(t)^{\\prime} &=-\\frac{1}{1-\\sigma(t)} \\cdot\\left(1+e^{-t}\\right)^{-2} \\cdot e^{-t} \\\\-\\frac{1}{1-\\sigma(t)}=-\\frac{1+e^{-t}}{e^{-t}} &=-\\frac{1+e^{-t}}{e^{-t}} \\cdot\\left(1+e^{-t}\\right)^{-2} \\cdot e^{-t} \\\\ &=-\\left(1+e^{-t}\\right)^{-1}=-\\sigma(t) \\end{aligned}$"
   ]
  },
  {
   "cell_type": "markdown",
   "execution_count": null,
   "metadata": {},
   "outputs": [],
   "source": [
    "$\\sigma(t)=\\frac{1}{1+e^{-t}}=\\left(1+e^{-t}\\right)^{-1}$\n",
    "$(\\log \\sigma(t))^{\\prime}=\\left(1+e^{-t}\\right)^{-1} \\cdot e^{-t}$"
   ]
  },
  {
   "cell_type": "markdown",
   "execution_count": null,
   "metadata": {},
   "outputs": [],
   "source": [
    "$\\begin{aligned}(\\log \\sigma(t))^{\\prime} &=\\left(1+e^{-t}\\right)^{-1} \\cdot e^{-t} \\\\ &=\\frac{e^{-t}}{1+e^{-t}}=\\frac{1+e^{-t}-1}{1+e^{-t}}=1-\\frac{1}{1+e^{-t}} \\\\ &=1-\\sigma(t) \\end{aligned}$"
   ]
  },
  {
   "cell_type": "markdown",
   "execution_count": null,
   "metadata": {},
   "outputs": [],
   "source": [
    "$\\frac{J(\\theta)}{\\theta_{j}}=\\frac{1}{m} \\sum_{i=1}^{m}\\left(\\sigma\\left(X_{b}^{(i)} \\theta\\right)-y^{(i)}\\right) X_{j}^{(i)}$"
   ]
  },
  {
   "cell_type": "markdown",
   "execution_count": null,
   "metadata": {},
   "outputs": [],
   "source": [
    "$\\nabla J(\\theta)=\\frac{2}{m} \\cdot \\cdot \\cdot\\left[\\begin{array}{c}{\\sum_{i=1}^{m}\\left(X_{b}^{(i)} \\theta-y^{(i)}\\right)} \\\\ {\\sum_{i=1}^{m}\\left(X_{b}^{(i)} \\theta-y^{(i)}\\right) \\cdot X_{1}^{(i)}} \\\\ {\\sum_{i=1}^{m}\\left(X_{b}^{(i)} \\theta-y^{(i)}\\right) \\cdot X_{2}^{(i)}} \\\\ {\\cdots} \\\\ {\\sum_{i=1}^{m}\\left(X_{b}^{(i)} \\theta-y^{(i)}\\right) \\cdot X_{n}^{(i)}} \\\\ {i=1}\\end{array}\\right]=\\frac{2}{m} \\cdot X_{b}^{T} \\cdot\\left(X_{b} \\theta-y\\right)$"
   ]
  },
  {
   "cell_type": "code",
   "execution_count": null,
   "metadata": {},
   "outputs": [],
   "source": []
  },
  {
   "cell_type": "code",
   "execution_count": null,
   "metadata": {},
   "outputs": [],
   "source": []
  }
 ]
}