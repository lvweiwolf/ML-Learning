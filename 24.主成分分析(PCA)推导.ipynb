{
 "nbformat": 4,
 "nbformat_minor": 2,
 "metadata": {
  "language_info": {
   "name": "python",
   "codemirror_mode": {
    "name": "ipython",
    "version": 3
   }
  },
  "orig_nbformat": 2,
  "file_extension": ".py",
  "mimetype": "text/x-python",
  "name": "python",
  "npconvert_exporter": "python",
  "pygments_lexer": "ipython3",
  "version": 3
 },
 "cells": [
  {
   "cell_type": "markdown",
   "execution_count": null,
   "metadata": {},
   "outputs": [],
   "source": [
    "# 主成分分析(PCA)的推导"
   ]
  },
  {
   "cell_type": "markdown",
   "execution_count": null,
   "metadata": {},
   "outputs": [],
   "source": [
    "## 目标: 求w，使得$f(X)=\\frac{1}{m} \\sum_{i=1}^{m}\\left(X_{1}^{(i)} w_{1}+X_{2}^{(i)} w_{2}+\\ldots+X_{n}^{(i)} w_{n}\\right)^{2}$ 最大"
   ]
  },
  {
   "cell_type": "markdown",
   "execution_count": null,
   "metadata": {},
   "outputs": [],
   "source": [
    "1.\n",
    "$\\nabla f=\\left(\\begin{array}{c}{\\frac{\\partial f}{\\partial w_{1}}} \\\\ {\\frac{\\partial f}{\\partial w_{2}}} \\\\ {\\cdots} \\\\ {\\frac{\\partial f}{\\partial w_{n}}}\\end{array}\\right)$$=\\frac{2}{m}\\left(\\begin{array}{c}{\\sum_{i=1}^{m}\\left(X_{1}^{(i)} w_{1}+X_{2}^{(i)} w_{2}+\\ldots+X_{n}^{(i)} w_{n}\\right) X_{1}^{(i)}} \\\\ {\\sum_{i=1}^{m}\\left(X_{1}^{(i)} w_{1}+X_{2}^{(i)} w_{2}+\\ldots+X_{n}^{(i)} w_{n}\\right) X_{2}^{(i)}} \\\\ {\\cdots} \\\\ {\\sum_{i=1}^{m}\\left(X_{1}^{(i)} w_{1}+X_{2}^{(i)} w_{2}+\\ldots+X_{n}^{(i)} w_{n}\\right) X_{n}^{(i)}}\\end{array}\\right)$"
   ]
  },
  {
   "cell_type": "markdown",
   "execution_count": null,
   "metadata": {},
   "outputs": [],
   "source": [
    "2. $\\nabla f=\\left(\\begin{array}{c}{\\frac{\\partial f}{\\partial w_{1}}} \\\\ {\\frac{\\partial f}{\\partial w_{2}}} \\\\ {\\cdots} \\\\ {\\frac{\\partial f}{\\partial w_{n}}}\\end{array}\\right)$$=\\frac{2}{m}\\left(\\begin{array}{c}{\\sum_{i=1}^{m}\\left(X^{(i)} w\\right) X_{1}^{(i)}} \\\\ {\\sum_{i=1}^{m}\\left(X^{(i)} w\\right) X_{2}^{(i)}} \\\\ {\\cdots \\cdots} \\\\ {\\sum_{i=1}^{m}\\left(X^{(i)} w\\right) X_{n}^{(i)}}\\end{array}\\right)$\n"
   ]
  },
  {
   "cell_type": "markdown",
   "execution_count": null,
   "metadata": {},
   "outputs": [],
   "source": [
    "3. \n",
    "$\\begin{array}{l}{\\frac{2}{m} \\cdot\\left(X^{(1)} w, \\quad X^{(2)} w, \\quad X^{(3)} w, \\quad \\ldots \\quad X^{(m)} w\\right)} \\\\ \\cdot{\\left(\\begin{array}{lllll}{X_{1}^{(1)}} & {X_{2}^{(1)}} & {X_{3}^{(1)}} & {\\dots} & {X_{n}^{(1)}} \\\\ {X_{1}^{(2)}} & {X_{2}^{(2)}} & {X_{3}^{(2)}} & {\\dots} & {X_{n}^{(2)}} \\\\ {X_{1}^{(3)}} & {X_{2}^{(3)}} & {X_{3}^{(3)}} & {\\dots} & {X_{n}^{(3)}} \\\\ {\\dots} & {\\cdots} & {\\cdots} & {\\dots} & {\\dots} \\\\ {X_{1}^{(m)}} & {X_{2}^{(m)}} & {X_{3}^{(m)}} & {\\dots} & {X_{n}^{(m)}}\\end{array}\\right)} \\\\ {} & {}\\end{array}$$=\\frac{2}{m} \\cdot(X w)^{T} \\cdot X$"
   ]
  },
  {
   "cell_type": "markdown",
   "execution_count": null,
   "metadata": {},
   "outputs": [],
   "source": [
    "4. \n",
    "$\\begin{array}{l}{\\frac{2}{m} \\cdot\\left(X^{(1)} w, \\quad X^{(2)} w, \\quad X^{(3)} w, \\quad \\ldots \\quad X^{(m)} w\\right)} \\\\ \\cdot{\\left(\\begin{array}{lllll}{X_{1}^{(1)}} & {X_{2}^{(1)}} & {X_{3}^{(1)}} & {\\dots} & {X_{n}^{(1)}} \\\\ {X_{1}^{(2)}} & {X_{2}^{(2)}} & {X_{3}^{(2)}} & {\\dots} & {X_{n}^{(2)}} \\\\ {X_{1}^{(3)}} & {X_{2}^{(3)}} & {X_{3}^{(3)}} & {\\dots} & {X_{n}^{(3)}} \\\\ {\\dots} & {\\cdots} & {\\cdots} & {\\dots} & {\\dots} \\\\ {X_{1}^{(m)}} & {X_{2}^{(m)}} & {X_{3}^{(m)}} & {\\dots} & {X_{n}^{(m)}}\\end{array}\\right)} \\\\ {} & {}\\end{array}$$=\\frac{2}{m} \\cdot(X w)^{T} \\cdot X$\n",
    "\n",
    "$$\n",
    "\\frac{2}{m} \\cdot X^{T}(X w)\n",
    "$$\n"
   ]
  },
  {
   "cell_type": "markdown",
   "execution_count": null,
   "metadata": {},
   "outputs": [],
   "source": [
    "5.\n",
    "$\\nabla f=\\frac{2}{m}\\left(\\begin{array}{c}{\\sum_{i=1}^{m}\\left(X^{(i)} w\\right) X_{1}^{(i)}} \\\\ {\\sum_{i=1}^{m}\\left(X^{(i)} w\\right) X_{2}^{(i)}} \\\\ {\\cdots} \\\\ {\\sum_{i=1}^{m}\\left(X^{(i)} w\\right) X_{n}^{(i)}}\\end{array}\\right)=\\frac{2}{m} \\cdot X^{T}(X w)$"
   ]
  }
 ]
}