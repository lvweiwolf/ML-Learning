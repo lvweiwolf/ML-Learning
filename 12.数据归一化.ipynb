{
 "nbformat": 4,
 "nbformat_minor": 2,
 "metadata": {
  "language_info": {
   "name": "python",
   "codemirror_mode": {
    "name": "ipython",
    "version": 3
   }
  },
  "orig_nbformat": 2,
  "file_extension": ".py",
  "mimetype": "text/x-python",
  "name": "python",
  "npconvert_exporter": "python",
  "pygments_lexer": "ipython3",
  "version": 3
 },
 "cells": [
  {
   "cell_type": "markdown",
   "execution_count": null,
   "metadata": {},
   "outputs": [],
   "source": [
    "# 数据归一化"
   ]
  },
  {
   "cell_type": "code",
   "execution_count": 3,
   "metadata": {},
   "outputs": [],
   "source": [
    "import numpy as np\n",
    "import matplotlib.pyplot as plt\n",
    "from sklearn import datasets\n"
   ]
  },
  {
   "cell_type": "markdown",
   "execution_count": null,
   "metadata": {},
   "outputs": [],
   "source": [
    " ## 最值归一化 Normalization"
   ]
  },
  {
   "cell_type": "code",
   "execution_count": 4,
   "metadata": {},
   "outputs": [
    {
     "data": {
      "text/plain": "array([77, 45, 55, 89, 11, 88, 46, 89, 94, 34, 35, 50, 26, 36, 99, 92, 71,\n       70, 17, 83, 90, 62, 52, 12, 23, 85, 35, 99, 50, 74, 92, 27, 75, 87,\n       45, 99, 80, 79, 26, 23, 29, 30, 80, 63, 23, 20, 40, 97, 94, 65, 41,\n       39, 15, 34, 58, 92,  2, 10, 37, 71, 93, 86, 89, 77, 45, 63,  3, 49,\n       77, 73, 47, 19, 85, 78,  9, 81, 89,  9, 51, 47, 10, 59, 26, 69, 48,\n       48, 69, 23, 86, 50, 85,  0, 73, 23, 72, 31, 31, 96, 71,  0])"
     },
     "execution_count": 4,
     "metadata": {},
     "output_type": "execute_result"
    }
   ],
   "source": [
    "x = np.random.randint(0, 100, size=100)\n",
    "x"
   ]
  },
  {
   "cell_type": "code",
   "execution_count": 5,
   "metadata": {},
   "outputs": [
    {
     "data": {
      "text/plain": "array([0.77777778, 0.45454545, 0.55555556, 0.8989899 , 0.11111111,\n       0.88888889, 0.46464646, 0.8989899 , 0.94949495, 0.34343434,\n       0.35353535, 0.50505051, 0.26262626, 0.36363636, 1.        ,\n       0.92929293, 0.71717172, 0.70707071, 0.17171717, 0.83838384,\n       0.90909091, 0.62626263, 0.52525253, 0.12121212, 0.23232323,\n       0.85858586, 0.35353535, 1.        , 0.50505051, 0.74747475,\n       0.92929293, 0.27272727, 0.75757576, 0.87878788, 0.45454545,\n       1.        , 0.80808081, 0.7979798 , 0.26262626, 0.23232323,\n       0.29292929, 0.3030303 , 0.80808081, 0.63636364, 0.23232323,\n       0.2020202 , 0.4040404 , 0.97979798, 0.94949495, 0.65656566,\n       0.41414141, 0.39393939, 0.15151515, 0.34343434, 0.58585859,\n       0.92929293, 0.02020202, 0.1010101 , 0.37373737, 0.71717172,\n       0.93939394, 0.86868687, 0.8989899 , 0.77777778, 0.45454545,\n       0.63636364, 0.03030303, 0.49494949, 0.77777778, 0.73737374,\n       0.47474747, 0.19191919, 0.85858586, 0.78787879, 0.09090909,\n       0.81818182, 0.8989899 , 0.09090909, 0.51515152, 0.47474747,\n       0.1010101 , 0.5959596 , 0.26262626, 0.6969697 , 0.48484848,\n       0.48484848, 0.6969697 , 0.23232323, 0.86868687, 0.50505051,\n       0.85858586, 0.        , 0.73737374, 0.23232323, 0.72727273,\n       0.31313131, 0.31313131, 0.96969697, 0.71717172, 0.        ])"
     },
     "execution_count": 5,
     "metadata": {},
     "output_type": "execute_result"
    }
   ],
   "source": [
    "(x - np.min(x)) / (np.max(x) - np.min(x))"
   ]
  },
  {
   "cell_type": "code",
   "execution_count": 7,
   "metadata": {},
   "outputs": [
    {
     "data": {
      "text/plain": "array([[69, 41],\n       [98, 22],\n       [83, 18],\n       [39, 15],\n       [85, 95],\n       [32, 66],\n       [43, 36],\n       [ 7, 73],\n       [83, 73],\n       [29,  3]])"
     },
     "execution_count": 7,
     "metadata": {},
     "output_type": "execute_result"
    }
   ],
   "source": [
    "X = np.random.randint(0, 100, (50, 2))\n",
    "X[:10, :]"
   ]
  },
  {
   "cell_type": "code",
   "execution_count": 8,
   "metadata": {},
   "outputs": [
    {
     "data": {
      "text/plain": "array([[69., 41.],\n       [98., 22.],\n       [83., 18.],\n       [39., 15.],\n       [85., 95.],\n       [32., 66.],\n       [43., 36.],\n       [ 7., 73.],\n       [83., 73.],\n       [29.,  3.]])"
     },
     "execution_count": 8,
     "metadata": {},
     "output_type": "execute_result"
    }
   ],
   "source": []
  },
  {
   "cell_type": "code",
   "execution_count": 10,
   "metadata": {},
   "outputs": [
    {
     "data": {
      "text/plain": "array([[0.68478261, 0.41414141],\n       [1.        , 0.22222222],\n       [0.83695652, 0.18181818],\n       [0.35869565, 0.15151515],\n       [0.85869565, 0.95959596],\n       [0.2826087 , 0.66666667],\n       [0.40217391, 0.36363636],\n       [0.01086957, 0.73737374],\n       [0.83695652, 0.73737374],\n       [0.25      , 0.03030303]])"
     },
     "execution_count": 10,
     "metadata": {},
     "output_type": "execute_result"
    }
   ],
   "source": [
    "plt.scatter(X[:,0], X[:, 1])\n",
    "plt.show()"
   ]
  },
  {
   "cell_type": "code",
   "execution_count": 11,
   "metadata": {},
   "outputs": [
    {
     "data": {
      "image/png": "[encoded data removed]",
      "image/svg+xml": "<?xml version=\"1.0\" encoding=\"utf-8\" standalone=\"no\"?>\r\n<!DOCTYPE svg PUBLIC \"-//W3C//DTD SVG 1.1//EN\"\r\n  \"http://www.w3.org/Graphics/SVG/1.1/DTD/svg11.dtd\">\r\n<!-- Created with matplotlib (https://matplotlib.org/) -->\r\n<svg height=\"248.518125pt\" version=\"1.1\" viewBox=\"0 0 372.103125 248.518125\" width=\"372.103125pt\" xmlns=\"http://www.w3.org/2000/svg\" xmlns:xlink=\"http://www.w3.org/1999/xlink\">\r\n <defs>\r\n  <style type=\"text/css\">\r\n*{stroke-linecap:butt;stroke-linejoin:round;}\r\n  </style>\r\n </defs>\r\n <g id=\"figure_1\">\r\n  <g id=\"patch_1\">\r\n   <path d=\"M 0 248.518125 \r\nL 372.103125 248.518125 \r\nL 372.103125 0 \r\nL 0 0 \r\nz\r\n\" style=\"fill:none;\"/>\r\n  </g>\r\n  <g id=\"axes_1\">\r\n   <g id=\"patch_2\">\r\n    <path d=\"M 30.103125 224.64 \r\nL 364.903125 224.64 \r\nL 364.903125 7.2 \r\nL 30.103125 7.2 \r\nz\r\n\" style=\"fill:#ffffff;\"/>\r\n   </g>\r\n   <g id=\"PathCollection_1\">\r\n    <defs>\r\n     <path d=\"M 0 3 \r\nC 0.795609 3 1.55874 2.683901 2.12132 2.12132 \r\nC 2.683901 1.55874 3 0.795609 3 0 \r\nC 3 -0.795609 2.683901 -1.55874 2.12132 -2.12132 \r\nC 1.55874 -2.683901 0.795609 -3 0 -3 \r\nC -0.795609 -3 -1.55874 -2.683901 -2.12132 -2.12132 \r\nC -2.683901 -1.55874 -3 -0.795609 -3 0 \r\nC -3 0.795609 -2.683901 1.55874 -2.12132 2.12132 \r\nC -1.55874 2.683901 -0.795609 3 0 3 \r\nz\r\n\" id=\"mebc1ff6eae\" style=\"stroke:#1f77b4;\"/>\r\n    </defs>\r\n    <g clip-path=\"url(#p03adc1a22f)\">\r\n     <use style=\"fill:#1f77b4;stroke:#1f77b4;\" x=\"252.754071\" xlink:href=\"#mebc1ff6eae\" y=\"132.436157\"/>\r\n     <use style=\"fill:#1f77b4;stroke:#1f77b4;\" x=\"347.005686\" xlink:href=\"#mebc1ff6eae\" y=\"169.354626\"/>\r\n     <use style=\"fill:#1f77b4;stroke:#1f77b4;\" x=\"298.254851\" xlink:href=\"#mebc1ff6eae\" y=\"177.126935\"/>\r\n     <use style=\"fill:#1f77b4;stroke:#1f77b4;\" x=\"155.252401\" xlink:href=\"#mebc1ff6eae\" y=\"182.956167\"/>\r\n     <use style=\"fill:#1f77b4;stroke:#1f77b4;\" x=\"304.754962\" xlink:href=\"#mebc1ff6eae\" y=\"27.509983\"/>\r\n     <use style=\"fill:#1f77b4;stroke:#1f77b4;\" x=\"132.502012\" xlink:href=\"#mebc1ff6eae\" y=\"83.859225\"/>\r\n     <use style=\"fill:#1f77b4;stroke:#1f77b4;\" x=\"168.252624\" xlink:href=\"#mebc1ff6eae\" y=\"142.151543\"/>\r\n     <use style=\"fill:#1f77b4;stroke:#1f77b4;\" x=\"51.25062\" xlink:href=\"#mebc1ff6eae\" y=\"70.257684\"/>\r\n     <use style=\"fill:#1f77b4;stroke:#1f77b4;\" x=\"298.254851\" xlink:href=\"#mebc1ff6eae\" y=\"70.257684\"/>\r\n     <use style=\"fill:#1f77b4;stroke:#1f77b4;\" x=\"122.751845\" xlink:href=\"#mebc1ff6eae\" y=\"206.273094\"/>\r\n     <use style=\"fill:#1f77b4;stroke:#1f77b4;\" x=\"83.751177\" xlink:href=\"#mebc1ff6eae\" y=\"196.557708\"/>\r\n     <use style=\"fill:#1f77b4;stroke:#1f77b4;\" x=\"239.753849\" xlink:href=\"#mebc1ff6eae\" y=\"190.728476\"/>\r\n     <use style=\"fill:#1f77b4;stroke:#1f77b4;\" x=\"314.505129\" xlink:href=\"#mebc1ff6eae\" y=\"58.59922\"/>\r\n     <use style=\"fill:#1f77b4;stroke:#1f77b4;\" x=\"337.255519\" xlink:href=\"#mebc1ff6eae\" y=\"58.59922\"/>\r\n     <use style=\"fill:#1f77b4;stroke:#1f77b4;\" x=\"243.003904\" xlink:href=\"#mebc1ff6eae\" y=\"169.354626\"/>\r\n     <use style=\"fill:#1f77b4;stroke:#1f77b4;\" x=\"330.755407\" xlink:href=\"#mebc1ff6eae\" y=\"109.119229\"/>\r\n     <use style=\"fill:#1f77b4;stroke:#1f77b4;\" x=\"106.501566\" xlink:href=\"#mebc1ff6eae\" y=\"194.61463\"/>\r\n     <use style=\"fill:#1f77b4;stroke:#1f77b4;\" x=\"311.255073\" xlink:href=\"#mebc1ff6eae\" y=\"173.24078\"/>\r\n     <use style=\"fill:#1f77b4;stroke:#1f77b4;\" x=\"246.25396\" xlink:href=\"#mebc1ff6eae\" y=\"173.24078\"/>\r\n     <use style=\"fill:#1f77b4;stroke:#1f77b4;\" x=\"298.254851\" xlink:href=\"#mebc1ff6eae\" y=\"136.322312\"/>\r\n     <use style=\"fill:#1f77b4;stroke:#1f77b4;\" x=\"83.751177\" xlink:href=\"#mebc1ff6eae\" y=\"85.802302\"/>\r\n     <use style=\"fill:#1f77b4;stroke:#1f77b4;\" x=\"106.501566\" xlink:href=\"#mebc1ff6eae\" y=\"116.891539\"/>\r\n     <use style=\"fill:#1f77b4;stroke:#1f77b4;\" x=\"184.502902\" xlink:href=\"#mebc1ff6eae\" y=\"31.396138\"/>\r\n     <use style=\"fill:#1f77b4;stroke:#1f77b4;\" x=\"148.75229\" xlink:href=\"#mebc1ff6eae\" y=\"140.208466\"/>\r\n     <use style=\"fill:#1f77b4;stroke:#1f77b4;\" x=\"327.505352\" xlink:href=\"#mebc1ff6eae\" y=\"182.956167\"/>\r\n     <use style=\"fill:#1f77b4;stroke:#1f77b4;\" x=\"57.750731\" xlink:href=\"#mebc1ff6eae\" y=\"41.111524\"/>\r\n     <use style=\"fill:#1f77b4;stroke:#1f77b4;\" x=\"161.752513\" xlink:href=\"#mebc1ff6eae\" y=\"212.102326\"/>\r\n     <use style=\"fill:#1f77b4;stroke:#1f77b4;\" x=\"321.00524\" xlink:href=\"#mebc1ff6eae\" y=\"114.948461\"/>\r\n     <use style=\"fill:#1f77b4;stroke:#1f77b4;\" x=\"119.501789\" xlink:href=\"#mebc1ff6eae\" y=\"76.086916\"/>\r\n     <use style=\"fill:#1f77b4;stroke:#1f77b4;\" x=\"64.250843\" xlink:href=\"#mebc1ff6eae\" y=\"132.436157\"/>\r\n     <use style=\"fill:#1f77b4;stroke:#1f77b4;\" x=\"207.253292\" xlink:href=\"#mebc1ff6eae\" y=\"93.574611\"/>\r\n     <use style=\"fill:#1f77b4;stroke:#1f77b4;\" x=\"161.752513\" xlink:href=\"#mebc1ff6eae\" y=\"72.200761\"/>\r\n     <use style=\"fill:#1f77b4;stroke:#1f77b4;\" x=\"327.505352\" xlink:href=\"#mebc1ff6eae\" y=\"153.810007\"/>\r\n     <use style=\"fill:#1f77b4;stroke:#1f77b4;\" x=\"122.751845\" xlink:href=\"#mebc1ff6eae\" y=\"165.468471\"/>\r\n     <use style=\"fill:#1f77b4;stroke:#1f77b4;\" x=\"311.255073\" xlink:href=\"#mebc1ff6eae\" y=\"33.339215\"/>\r\n     <use style=\"fill:#1f77b4;stroke:#1f77b4;\" x=\"311.255073\" xlink:href=\"#mebc1ff6eae\" y=\"208.216171\"/>\r\n     <use style=\"fill:#1f77b4;stroke:#1f77b4;\" x=\"152.002346\" xlink:href=\"#mebc1ff6eae\" y=\"85.802302\"/>\r\n     <use style=\"fill:#1f77b4;stroke:#1f77b4;\" x=\"204.003236\" xlink:href=\"#mebc1ff6eae\" y=\"192.671553\"/>\r\n     <use style=\"fill:#1f77b4;stroke:#1f77b4;\" x=\"155.252401\" xlink:href=\"#mebc1ff6eae\" y=\"171.297703\"/>\r\n     <use style=\"fill:#1f77b4;stroke:#1f77b4;\" x=\"184.502902\" xlink:href=\"#mebc1ff6eae\" y=\"155.753084\"/>\r\n     <use style=\"fill:#1f77b4;stroke:#1f77b4;\" x=\"343.75563\" xlink:href=\"#mebc1ff6eae\" y=\"76.086916\"/>\r\n     <use style=\"fill:#1f77b4;stroke:#1f77b4;\" x=\"311.255073\" xlink:href=\"#mebc1ff6eae\" y=\"81.916147\"/>\r\n     <use style=\"fill:#1f77b4;stroke:#1f77b4;\" x=\"126.0019\" xlink:href=\"#mebc1ff6eae\" y=\"173.24078\"/>\r\n     <use style=\"fill:#1f77b4;stroke:#1f77b4;\" x=\"249.504016\" xlink:href=\"#mebc1ff6eae\" y=\"39.168447\"/>\r\n     <use style=\"fill:#1f77b4;stroke:#1f77b4;\" x=\"217.003459\" xlink:href=\"#mebc1ff6eae\" y=\"95.517688\"/>\r\n     <use style=\"fill:#1f77b4;stroke:#1f77b4;\" x=\"148.75229\" xlink:href=\"#mebc1ff6eae\" y=\"120.777693\"/>\r\n     <use style=\"fill:#1f77b4;stroke:#1f77b4;\" x=\"226.753626\" xlink:href=\"#mebc1ff6eae\" y=\"107.176152\"/>\r\n     <use style=\"fill:#1f77b4;stroke:#1f77b4;\" x=\"109.751622\" xlink:href=\"#mebc1ff6eae\" y=\"177.126935\"/>\r\n     <use style=\"fill:#1f77b4;stroke:#1f77b4;\" x=\"48.000564\" xlink:href=\"#mebc1ff6eae\" y=\"74.143838\"/>\r\n     <use style=\"fill:#1f77b4;stroke:#1f77b4;\" x=\"236.503793\" xlink:href=\"#mebc1ff6eae\" y=\"19.737674\"/>\r\n    </g>\r\n   </g>\r\n   <g id=\"matplotlib.axis_1\">\r\n    <g id=\"xtick_1\">\r\n     <g id=\"line2d_1\">\r\n      <defs>\r\n       <path d=\"M 0 0 \r\nL 0 3.5 \r\n\" id=\"m4702890853\" style=\"stroke:#000000;stroke-width:0.8;\"/>\r\n      </defs>\r\n      <g>\r\n       <use style=\"stroke:#000000;stroke-width:0.8;\" x=\"48.000564\" xlink:href=\"#m4702890853\" y=\"224.64\"/>\r\n      </g>\r\n     </g>\r\n     <g id=\"text_1\">\r\n      <!-- 0.0 -->\r\n      <defs>\r\n       <path d=\"M 31.78125 66.40625 \r\nQ 24.171875 66.40625 20.328125 58.90625 \r\nQ 16.5 51.421875 16.5 36.375 \r\nQ 16.5 21.390625 20.328125 13.890625 \r\nQ 24.171875 6.390625 31.78125 6.390625 \r\nQ 39.453125 6.390625 43.28125 13.890625 \r\nQ 47.125 21.390625 47.125 36.375 \r\nQ 47.125 51.421875 43.28125 58.90625 \r\nQ 39.453125 66.40625 31.78125 66.40625 \r\nz\r\nM 31.78125 74.21875 \r\nQ 44.046875 74.21875 50.515625 64.515625 \r\nQ 56.984375 54.828125 56.984375 36.375 \r\nQ 56.984375 17.96875 50.515625 8.265625 \r\nQ 44.046875 -1.421875 31.78125 -1.421875 \r\nQ 19.53125 -1.421875 13.0625 8.265625 \r\nQ 6.59375 17.96875 6.59375 36.375 \r\nQ 6.59375 54.828125 13.0625 64.515625 \r\nQ 19.53125 74.21875 31.78125 74.21875 \r\nz\r\n\" id=\"DejaVuSans-48\"/>\r\n       <path d=\"M 10.6875 12.40625 \r\nL 21 12.40625 \r\nL 21 0 \r\nL 10.6875 0 \r\nz\r\n\" id=\"DejaVuSans-46\"/>\r\n      </defs>\r\n      <g transform=\"translate(40.049002 239.238437)scale(0.1 -0.1)\">\r\n       <use xlink:href=\"#DejaVuSans-48\"/>\r\n       <use x=\"63.623047\" xlink:href=\"#DejaVuSans-46\"/>\r\n       <use x=\"95.410156\" xlink:href=\"#DejaVuSans-48\"/>\r\n      </g>\r\n     </g>\r\n    </g>\r\n    <g id=\"xtick_2\">\r\n     <g id=\"line2d_2\">\r\n      <g>\r\n       <use style=\"stroke:#000000;stroke-width:0.8;\" x=\"107.801589\" xlink:href=\"#m4702890853\" y=\"224.64\"/>\r\n      </g>\r\n     </g>\r\n     <g id=\"text_2\">\r\n      <!-- 0.2 -->\r\n      <defs>\r\n       <path d=\"M 19.1875 8.296875 \r\nL 53.609375 8.296875 \r\nL 53.609375 0 \r\nL 7.328125 0 \r\nL 7.328125 8.296875 \r\nQ 12.9375 14.109375 22.625 23.890625 \r\nQ 32.328125 33.6875 34.8125 36.53125 \r\nQ 39.546875 41.84375 41.421875 45.53125 \r\nQ 43.3125 49.21875 43.3125 52.78125 \r\nQ 43.3125 58.59375 39.234375 62.25 \r\nQ 35.15625 65.921875 28.609375 65.921875 \r\nQ 23.96875 65.921875 18.8125 64.3125 \r\nQ 13.671875 62.703125 7.8125 59.421875 \r\nL 7.8125 69.390625 \r\nQ 13.765625 71.78125 18.9375 73 \r\nQ 24.125 74.21875 28.421875 74.21875 \r\nQ 39.75 74.21875 46.484375 68.546875 \r\nQ 53.21875 62.890625 53.21875 53.421875 \r\nQ 53.21875 48.921875 51.53125 44.890625 \r\nQ 49.859375 40.875 45.40625 35.40625 \r\nQ 44.1875 33.984375 37.640625 27.21875 \r\nQ 31.109375 20.453125 19.1875 8.296875 \r\nz\r\n\" id=\"DejaVuSans-50\"/>\r\n      </defs>\r\n      <g transform=\"translate(99.850026 239.238437)scale(0.1 -0.1)\">\r\n       <use xlink:href=\"#DejaVuSans-48\"/>\r\n       <use x=\"63.623047\" xlink:href=\"#DejaVuSans-46\"/>\r\n       <use x=\"95.410156\" xlink:href=\"#DejaVuSans-50\"/>\r\n      </g>\r\n     </g>\r\n    </g>\r\n    <g id=\"xtick_3\">\r\n     <g id=\"line2d_3\">\r\n      <g>\r\n       <use style=\"stroke:#000000;stroke-width:0.8;\" x=\"167.602613\" xlink:href=\"#m4702890853\" y=\"224.64\"/>\r\n      </g>\r\n     </g>\r\n     <g id=\"text_3\">\r\n      <!-- 0.4 -->\r\n      <defs>\r\n       <path d=\"M 37.796875 64.3125 \r\nL 12.890625 25.390625 \r\nL 37.796875 25.390625 \r\nz\r\nM 35.203125 72.90625 \r\nL 47.609375 72.90625 \r\nL 47.609375 25.390625 \r\nL 58.015625 25.390625 \r\nL 58.015625 17.1875 \r\nL 47.609375 17.1875 \r\nL 47.609375 0 \r\nL 37.796875 0 \r\nL 37.796875 17.1875 \r\nL 4.890625 17.1875 \r\nL 4.890625 26.703125 \r\nz\r\n\" id=\"DejaVuSans-52\"/>\r\n      </defs>\r\n      <g transform=\"translate(159.65105 239.238437)scale(0.1 -0.1)\">\r\n       <use xlink:href=\"#DejaVuSans-48\"/>\r\n       <use x=\"63.623047\" xlink:href=\"#DejaVuSans-46\"/>\r\n       <use x=\"95.410156\" xlink:href=\"#DejaVuSans-52\"/>\r\n      </g>\r\n     </g>\r\n    </g>\r\n    <g id=\"xtick_4\">\r\n     <g id=\"line2d_4\">\r\n      <g>\r\n       <use style=\"stroke:#000000;stroke-width:0.8;\" x=\"227.403637\" xlink:href=\"#m4702890853\" y=\"224.64\"/>\r\n      </g>\r\n     </g>\r\n     <g id=\"text_4\">\r\n      <!-- 0.6 -->\r\n      <defs>\r\n       <path d=\"M 33.015625 40.375 \r\nQ 26.375 40.375 22.484375 35.828125 \r\nQ 18.609375 31.296875 18.609375 23.390625 \r\nQ 18.609375 15.53125 22.484375 10.953125 \r\nQ 26.375 6.390625 33.015625 6.390625 \r\nQ 39.65625 6.390625 43.53125 10.953125 \r\nQ 47.40625 15.53125 47.40625 23.390625 \r\nQ 47.40625 31.296875 43.53125 35.828125 \r\nQ 39.65625 40.375 33.015625 40.375 \r\nz\r\nM 52.59375 71.296875 \r\nL 52.59375 62.3125 \r\nQ 48.875 64.0625 45.09375 64.984375 \r\nQ 41.3125 65.921875 37.59375 65.921875 \r\nQ 27.828125 65.921875 22.671875 59.328125 \r\nQ 17.53125 52.734375 16.796875 39.40625 \r\nQ 19.671875 43.65625 24.015625 45.921875 \r\nQ 28.375 48.1875 33.59375 48.1875 \r\nQ 44.578125 48.1875 50.953125 41.515625 \r\nQ 57.328125 34.859375 57.328125 23.390625 \r\nQ 57.328125 12.15625 50.6875 5.359375 \r\nQ 44.046875 -1.421875 33.015625 -1.421875 \r\nQ 20.359375 -1.421875 13.671875 8.265625 \r\nQ 6.984375 17.96875 6.984375 36.375 \r\nQ 6.984375 53.65625 15.1875 63.9375 \r\nQ 23.390625 74.21875 37.203125 74.21875 \r\nQ 40.921875 74.21875 44.703125 73.484375 \r\nQ 48.484375 72.75 52.59375 71.296875 \r\nz\r\n\" id=\"DejaVuSans-54\"/>\r\n      </defs>\r\n      <g transform=\"translate(219.452075 239.238437)scale(0.1 -0.1)\">\r\n       <use xlink:href=\"#DejaVuSans-48\"/>\r\n       <use x=\"63.623047\" xlink:href=\"#DejaVuSans-46\"/>\r\n       <use x=\"95.410156\" xlink:href=\"#DejaVuSans-54\"/>\r\n      </g>\r\n     </g>\r\n    </g>\r\n    <g id=\"xtick_5\">\r\n     <g id=\"line2d_5\">\r\n      <g>\r\n       <use style=\"stroke:#000000;stroke-width:0.8;\" x=\"287.204661\" xlink:href=\"#m4702890853\" y=\"224.64\"/>\r\n      </g>\r\n     </g>\r\n     <g id=\"text_5\">\r\n      <!-- 0.8 -->\r\n      <defs>\r\n       <path d=\"M 31.78125 34.625 \r\nQ 24.75 34.625 20.71875 30.859375 \r\nQ 16.703125 27.09375 16.703125 20.515625 \r\nQ 16.703125 13.921875 20.71875 10.15625 \r\nQ 24.75 6.390625 31.78125 6.390625 \r\nQ 38.8125 6.390625 42.859375 10.171875 \r\nQ 46.921875 13.96875 46.921875 20.515625 \r\nQ 46.921875 27.09375 42.890625 30.859375 \r\nQ 38.875 34.625 31.78125 34.625 \r\nz\r\nM 21.921875 38.8125 \r\nQ 15.578125 40.375 12.03125 44.71875 \r\nQ 8.5 49.078125 8.5 55.328125 \r\nQ 8.5 64.0625 14.71875 69.140625 \r\nQ 20.953125 74.21875 31.78125 74.21875 \r\nQ 42.671875 74.21875 48.875 69.140625 \r\nQ 55.078125 64.0625 55.078125 55.328125 \r\nQ 55.078125 49.078125 51.53125 44.71875 \r\nQ 48 40.375 41.703125 38.8125 \r\nQ 48.828125 37.15625 52.796875 32.3125 \r\nQ 56.78125 27.484375 56.78125 20.515625 \r\nQ 56.78125 9.90625 50.3125 4.234375 \r\nQ 43.84375 -1.421875 31.78125 -1.421875 \r\nQ 19.734375 -1.421875 13.25 4.234375 \r\nQ 6.78125 9.90625 6.78125 20.515625 \r\nQ 6.78125 27.484375 10.78125 32.3125 \r\nQ 14.796875 37.15625 21.921875 38.8125 \r\nz\r\nM 18.3125 54.390625 \r\nQ 18.3125 48.734375 21.84375 45.5625 \r\nQ 25.390625 42.390625 31.78125 42.390625 \r\nQ 38.140625 42.390625 41.71875 45.5625 \r\nQ 45.3125 48.734375 45.3125 54.390625 \r\nQ 45.3125 60.0625 41.71875 63.234375 \r\nQ 38.140625 66.40625 31.78125 66.40625 \r\nQ 25.390625 66.40625 21.84375 63.234375 \r\nQ 18.3125 60.0625 18.3125 54.390625 \r\nz\r\n\" id=\"DejaVuSans-56\"/>\r\n      </defs>\r\n      <g transform=\"translate(279.253099 239.238437)scale(0.1 -0.1)\">\r\n       <use xlink:href=\"#DejaVuSans-48\"/>\r\n       <use x=\"63.623047\" xlink:href=\"#DejaVuSans-46\"/>\r\n       <use x=\"95.410156\" xlink:href=\"#DejaVuSans-56\"/>\r\n      </g>\r\n     </g>\r\n    </g>\r\n    <g id=\"xtick_6\">\r\n     <g id=\"line2d_6\">\r\n      <g>\r\n       <use style=\"stroke:#000000;stroke-width:0.8;\" x=\"347.005686\" xlink:href=\"#m4702890853\" y=\"224.64\"/>\r\n      </g>\r\n     </g>\r\n     <g id=\"text_6\">\r\n      <!-- 1.0 -->\r\n      <defs>\r\n       <path d=\"M 12.40625 8.296875 \r\nL 28.515625 8.296875 \r\nL 28.515625 63.921875 \r\nL 10.984375 60.40625 \r\nL 10.984375 69.390625 \r\nL 28.421875 72.90625 \r\nL 38.28125 72.90625 \r\nL 38.28125 8.296875 \r\nL 54.390625 8.296875 \r\nL 54.390625 0 \r\nL 12.40625 0 \r\nz\r\n\" id=\"DejaVuSans-49\"/>\r\n      </defs>\r\n      <g transform=\"translate(339.054123 239.238437)scale(0.1 -0.1)\">\r\n       <use xlink:href=\"#DejaVuSans-49\"/>\r\n       <use x=\"63.623047\" xlink:href=\"#DejaVuSans-46\"/>\r\n       <use x=\"95.410156\" xlink:href=\"#DejaVuSans-48\"/>\r\n      </g>\r\n     </g>\r\n    </g>\r\n   </g>\r\n   <g id=\"matplotlib.axis_2\">\r\n    <g id=\"ytick_1\">\r\n     <g id=\"line2d_7\">\r\n      <defs>\r\n       <path d=\"M 0 0 \r\nL -3.5 0 \r\n\" id=\"mad1baddb24\" style=\"stroke:#000000;stroke-width:0.8;\"/>\r\n      </defs>\r\n      <g>\r\n       <use style=\"stroke:#000000;stroke-width:0.8;\" x=\"30.103125\" xlink:href=\"#mad1baddb24\" y=\"212.102326\"/>\r\n      </g>\r\n     </g>\r\n     <g id=\"text_7\">\r\n      <!-- 0.0 -->\r\n      <g transform=\"translate(7.2 215.901545)scale(0.1 -0.1)\">\r\n       <use xlink:href=\"#DejaVuSans-48\"/>\r\n       <use x=\"63.623047\" xlink:href=\"#DejaVuSans-46\"/>\r\n       <use x=\"95.410156\" xlink:href=\"#DejaVuSans-48\"/>\r\n      </g>\r\n     </g>\r\n    </g>\r\n    <g id=\"ytick_2\">\r\n     <g id=\"line2d_8\">\r\n      <g>\r\n       <use style=\"stroke:#000000;stroke-width:0.8;\" x=\"30.103125\" xlink:href=\"#mad1baddb24\" y=\"173.629396\"/>\r\n      </g>\r\n     </g>\r\n     <g id=\"text_8\">\r\n      <!-- 0.2 -->\r\n      <g transform=\"translate(7.2 177.428614)scale(0.1 -0.1)\">\r\n       <use xlink:href=\"#DejaVuSans-48\"/>\r\n       <use x=\"63.623047\" xlink:href=\"#DejaVuSans-46\"/>\r\n       <use x=\"95.410156\" xlink:href=\"#DejaVuSans-50\"/>\r\n      </g>\r\n     </g>\r\n    </g>\r\n    <g id=\"ytick_3\">\r\n     <g id=\"line2d_9\">\r\n      <g>\r\n       <use style=\"stroke:#000000;stroke-width:0.8;\" x=\"30.103125\" xlink:href=\"#mad1baddb24\" y=\"135.156465\"/>\r\n      </g>\r\n     </g>\r\n     <g id=\"text_9\">\r\n      <!-- 0.4 -->\r\n      <g transform=\"translate(7.2 138.955684)scale(0.1 -0.1)\">\r\n       <use xlink:href=\"#DejaVuSans-48\"/>\r\n       <use x=\"63.623047\" xlink:href=\"#DejaVuSans-46\"/>\r\n       <use x=\"95.410156\" xlink:href=\"#DejaVuSans-52\"/>\r\n      </g>\r\n     </g>\r\n    </g>\r\n    <g id=\"ytick_4\">\r\n     <g id=\"line2d_10\">\r\n      <g>\r\n       <use style=\"stroke:#000000;stroke-width:0.8;\" x=\"30.103125\" xlink:href=\"#mad1baddb24\" y=\"96.683535\"/>\r\n      </g>\r\n     </g>\r\n     <g id=\"text_10\">\r\n      <!-- 0.6 -->\r\n      <g transform=\"translate(7.2 100.482754)scale(0.1 -0.1)\">\r\n       <use xlink:href=\"#DejaVuSans-48\"/>\r\n       <use x=\"63.623047\" xlink:href=\"#DejaVuSans-46\"/>\r\n       <use x=\"95.410156\" xlink:href=\"#DejaVuSans-54\"/>\r\n      </g>\r\n     </g>\r\n    </g>\r\n    <g id=\"ytick_5\">\r\n     <g id=\"line2d_11\">\r\n      <g>\r\n       <use style=\"stroke:#000000;stroke-width:0.8;\" x=\"30.103125\" xlink:href=\"#mad1baddb24\" y=\"58.210604\"/>\r\n      </g>\r\n     </g>\r\n     <g id=\"text_11\">\r\n      <!-- 0.8 -->\r\n      <g transform=\"translate(7.2 62.009823)scale(0.1 -0.1)\">\r\n       <use xlink:href=\"#DejaVuSans-48\"/>\r\n       <use x=\"63.623047\" xlink:href=\"#DejaVuSans-46\"/>\r\n       <use x=\"95.410156\" xlink:href=\"#DejaVuSans-56\"/>\r\n      </g>\r\n     </g>\r\n    </g>\r\n    <g id=\"ytick_6\">\r\n     <g id=\"line2d_12\">\r\n      <g>\r\n       <use style=\"stroke:#000000;stroke-width:0.8;\" x=\"30.103125\" xlink:href=\"#mad1baddb24\" y=\"19.737674\"/>\r\n      </g>\r\n     </g>\r\n     <g id=\"text_12\">\r\n      <!-- 1.0 -->\r\n      <g transform=\"translate(7.2 23.536893)scale(0.1 -0.1)\">\r\n       <use xlink:href=\"#DejaVuSans-49\"/>\r\n       <use x=\"63.623047\" xlink:href=\"#DejaVuSans-46\"/>\r\n       <use x=\"95.410156\" xlink:href=\"#DejaVuSans-48\"/>\r\n      </g>\r\n     </g>\r\n    </g>\r\n   </g>\r\n   <g id=\"patch_3\">\r\n    <path d=\"M 30.103125 224.64 \r\nL 30.103125 7.2 \r\n\" style=\"fill:none;stroke:#000000;stroke-linecap:square;stroke-linejoin:miter;stroke-width:0.8;\"/>\r\n   </g>\r\n   <g id=\"patch_4\">\r\n    <path d=\"M 364.903125 224.64 \r\nL 364.903125 7.2 \r\n\" style=\"fill:none;stroke:#000000;stroke-linecap:square;stroke-linejoin:miter;stroke-width:0.8;\"/>\r\n   </g>\r\n   <g id=\"patch_5\">\r\n    <path d=\"M 30.103125 224.64 \r\nL 364.903125 224.64 \r\n\" style=\"fill:none;stroke:#000000;stroke-linecap:square;stroke-linejoin:miter;stroke-width:0.8;\"/>\r\n   </g>\r\n   <g id=\"patch_6\">\r\n    <path d=\"M 30.103125 7.2 \r\nL 364.903125 7.2 \r\n\" style=\"fill:none;stroke:#000000;stroke-linecap:square;stroke-linejoin:miter;stroke-width:0.8;\"/>\r\n   </g>\r\n  </g>\r\n </g>\r\n <defs>\r\n  <clipPath id=\"p03adc1a22f\">\r\n   <rect height=\"217.44\" width=\"334.8\" x=\"30.103125\" y=\"7.2\"/>\r\n  </clipPath>\r\n </defs>\r\n</svg>\r\n",
      "text/plain": "<Figure size 432x288 with 1 Axes>"
     },
     "metadata": {
      "needs_background": "light"
     },
     "output_type": "display_data"
    }
   ],
   "source": [
    "plt.scatter(X[:,0], X[:, 1])\n",
    "plt.show()"
   ]
  },
  {
   "cell_type": "code",
   "execution_count": 13,
   "metadata": {},
   "outputs": [
    {
     "data": {
      "text/plain": "0.5332608695652173"
     },
     "execution_count": 13,
     "metadata": {},
     "output_type": "execute_result"
    }
   ],
   "source": [
    "np.mean(X)"
   ]
  },
  {
   "cell_type": "code",
   "execution_count": 14,
   "metadata": {},
   "outputs": [
    {
     "data": {
      "text/plain": "0.30627811780183445"
     },
     "execution_count": 14,
     "metadata": {},
     "output_type": "execute_result"
    }
   ],
   "source": []
  },
  {
   "cell_type": "markdown",
   "execution_count": null,
   "metadata": {},
   "outputs": [],
   "source": [
    "## 均值方差归一化 Standardization"
   ]
  },
  {
   "cell_type": "code",
   "execution_count": 15,
   "metadata": {},
   "outputs": [
    {
     "data": {
      "text/plain": "array([[26., 76.],\n       [25., 53.],\n       [69., 99.],\n       [25., 95.],\n       [62., 44.],\n       [90., 17.],\n       [68., 94.],\n       [48., 26.],\n       [59., 99.],\n       [50., 67.]])"
     },
     "execution_count": 15,
     "metadata": {},
     "output_type": "execute_result"
    }
   ],
   "source": [
    "X2 = np.random.randint(0, 100, (50, 2))\n",
    "X2 = np.array(X2, dtype=float)\n",
    "X2[:10, :]"
   ]
  },
  {
   "cell_type": "code",
   "execution_count": 16,
   "metadata": {},
   "outputs": [],
   "source": [
    "X2[:, 0] = (X2[:, 0] - np.mean(X2[:, 0])) / np.std(X2[:, 0])\n",
    "X2[:, 1] = (X2[:, 1] - np.mean(X2[:, 1])) / np.std(X2[:, 1])"
   ]
  },
  {
   "cell_type": "code",
   "execution_count": 17,
   "metadata": {},
   "outputs": [
    {
     "data": {
      "image/png": "[encoded data removed]",
      "image/svg+xml": "<?xml version=\"1.0\" encoding=\"utf-8\" standalone=\"no\"?>\r\n<!DOCTYPE svg PUBLIC \"-//W3C//DTD SVG 1.1//EN\"\r\n  \"http://www.w3.org/Graphics/SVG/1.1/DTD/svg11.dtd\">\r\n<!-- Created with matplotlib (https://matplotlib.org/) -->\r\n<svg height=\"248.518125pt\" version=\"1.1\" viewBox=\"0 0 380.482813 248.518125\" width=\"380.482813pt\" xmlns=\"http://www.w3.org/2000/svg\" xmlns:xlink=\"http://www.w3.org/1999/xlink\">\r\n <defs>\r\n  <style type=\"text/css\">\r\n*{stroke-linecap:butt;stroke-linejoin:round;}\r\n  </style>\r\n </defs>\r\n <g id=\"figure_1\">\r\n  <g id=\"patch_1\">\r\n   <path d=\"M -0 248.518125 \r\nL 380.482813 248.518125 \r\nL 380.482813 0 \r\nL -0 0 \r\nz\r\n\" style=\"fill:none;\"/>\r\n  </g>\r\n  <g id=\"axes_1\">\r\n   <g id=\"patch_2\">\r\n    <path d=\"M 38.482813 224.64 \r\nL 373.282813 224.64 \r\nL 373.282813 7.2 \r\nL 38.482813 7.2 \r\nz\r\n\" style=\"fill:#ffffff;\"/>\r\n   </g>\r\n   <g id=\"PathCollection_1\">\r\n    <defs>\r\n     <path d=\"M 0 3 \r\nC 0.795609 3 1.55874 2.683901 2.12132 2.12132 \r\nC 2.683901 1.55874 3 0.795609 3 0 \r\nC 3 -0.795609 2.683901 -1.55874 2.12132 -2.12132 \r\nC 1.55874 -2.683901 0.795609 -3 0 -3 \r\nC -0.795609 -3 -1.55874 -2.683901 -2.12132 -2.12132 \r\nC -2.683901 -1.55874 -3 -0.795609 -3 0 \r\nC -3 0.795609 -2.683901 1.55874 -2.12132 2.12132 \r\nC -1.55874 2.683901 -0.795609 3 0 3 \r\nz\r\n\" id=\"m758c21aca9\" style=\"stroke:#1f77b4;\"/>\r\n    </defs>\r\n    <g clip-path=\"url(#p1826bd9e36)\">\r\n     <use style=\"fill:#1f77b4;stroke:#1f77b4;\" x=\"138.623684\" xlink:href=\"#m758c21aca9\" y=\"63.913372\"/>\r\n     <use style=\"fill:#1f77b4;stroke:#1f77b4;\" x=\"135.260727\" xlink:href=\"#m758c21aca9\" y=\"109.919235\"/>\r\n     <use style=\"fill:#1f77b4;stroke:#1f77b4;\" x=\"283.23081\" xlink:href=\"#m758c21aca9\" y=\"17.907508\"/>\r\n     <use style=\"fill:#1f77b4;stroke:#1f77b4;\" x=\"135.260727\" xlink:href=\"#m758c21aca9\" y=\"25.908528\"/>\r\n     <use style=\"fill:#1f77b4;stroke:#1f77b4;\" x=\"259.690115\" xlink:href=\"#m758c21aca9\" y=\"127.92153\"/>\r\n     <use style=\"fill:#1f77b4;stroke:#1f77b4;\" x=\"353.852896\" xlink:href=\"#m758c21aca9\" y=\"181.928413\"/>\r\n     <use style=\"fill:#1f77b4;stroke:#1f77b4;\" x=\"279.867854\" xlink:href=\"#m758c21aca9\" y=\"27.908783\"/>\r\n     <use style=\"fill:#1f77b4;stroke:#1f77b4;\" x=\"212.608725\" xlink:href=\"#m758c21aca9\" y=\"163.926119\"/>\r\n     <use style=\"fill:#1f77b4;stroke:#1f77b4;\" x=\"249.601246\" xlink:href=\"#m758c21aca9\" y=\"17.907508\"/>\r\n     <use style=\"fill:#1f77b4;stroke:#1f77b4;\" x=\"219.334638\" xlink:href=\"#m758c21aca9\" y=\"81.915666\"/>\r\n     <use style=\"fill:#1f77b4;stroke:#1f77b4;\" x=\"172.253248\" xlink:href=\"#m758c21aca9\" y=\"111.91949\"/>\r\n     <use style=\"fill:#1f77b4;stroke:#1f77b4;\" x=\"54.549773\" xlink:href=\"#m758c21aca9\" y=\"105.918725\"/>\r\n     <use style=\"fill:#1f77b4;stroke:#1f77b4;\" x=\"353.852896\" xlink:href=\"#m758c21aca9\" y=\"181.928413\"/>\r\n     <use style=\"fill:#1f77b4;stroke:#1f77b4;\" x=\"252.964203\" xlink:href=\"#m758c21aca9\" y=\"99.91796\"/>\r\n     <use style=\"fill:#1f77b4;stroke:#1f77b4;\" x=\"71.364555\" xlink:href=\"#m758c21aca9\" y=\"55.912352\"/>\r\n     <use style=\"fill:#1f77b4;stroke:#1f77b4;\" x=\"141.98664\" xlink:href=\"#m758c21aca9\" y=\"65.913627\"/>\r\n     <use style=\"fill:#1f77b4;stroke:#1f77b4;\" x=\"300.045593\" xlink:href=\"#m758c21aca9\" y=\"131.92204\"/>\r\n     <use style=\"fill:#1f77b4;stroke:#1f77b4;\" x=\"108.357076\" xlink:href=\"#m758c21aca9\" y=\"91.916941\"/>\r\n     <use style=\"fill:#1f77b4;stroke:#1f77b4;\" x=\"94.90525\" xlink:href=\"#m758c21aca9\" y=\"59.912862\"/>\r\n     <use style=\"fill:#1f77b4;stroke:#1f77b4;\" x=\"64.638642\" xlink:href=\"#m758c21aca9\" y=\"71.914391\"/>\r\n     <use style=\"fill:#1f77b4;stroke:#1f77b4;\" x=\"135.260727\" xlink:href=\"#m758c21aca9\" y=\"195.930198\"/>\r\n     <use style=\"fill:#1f77b4;stroke:#1f77b4;\" x=\"242.875333\" xlink:href=\"#m758c21aca9\" y=\"165.926373\"/>\r\n     <use style=\"fill:#1f77b4;stroke:#1f77b4;\" x=\"209.245769\" xlink:href=\"#m758c21aca9\" y=\"47.911332\"/>\r\n     <use style=\"fill:#1f77b4;stroke:#1f77b4;\" x=\"84.816381\" xlink:href=\"#m758c21aca9\" y=\"173.927393\"/>\r\n     <use style=\"fill:#1f77b4;stroke:#1f77b4;\" x=\"115.082989\" xlink:href=\"#m758c21aca9\" y=\"173.927393\"/>\r\n     <use style=\"fill:#1f77b4;stroke:#1f77b4;\" x=\"155.438466\" xlink:href=\"#m758c21aca9\" y=\"37.910057\"/>\r\n     <use style=\"fill:#1f77b4;stroke:#1f77b4;\" x=\"252.964203\" xlink:href=\"#m758c21aca9\" y=\"213.932492\"/>\r\n     <use style=\"fill:#1f77b4;stroke:#1f77b4;\" x=\"78.090468\" xlink:href=\"#m758c21aca9\" y=\"103.91847\"/>\r\n     <use style=\"fill:#1f77b4;stroke:#1f77b4;\" x=\"78.090468\" xlink:href=\"#m758c21aca9\" y=\"163.926119\"/>\r\n     <use style=\"fill:#1f77b4;stroke:#1f77b4;\" x=\"209.245769\" xlink:href=\"#m758c21aca9\" y=\"41.910567\"/>\r\n     <use style=\"fill:#1f77b4;stroke:#1f77b4;\" x=\"175.616205\" xlink:href=\"#m758c21aca9\" y=\"83.915921\"/>\r\n     <use style=\"fill:#1f77b4;stroke:#1f77b4;\" x=\"54.549773\" xlink:href=\"#m758c21aca9\" y=\"127.92153\"/>\r\n     <use style=\"fill:#1f77b4;stroke:#1f77b4;\" x=\"205.882813\" xlink:href=\"#m758c21aca9\" y=\"187.929178\"/>\r\n     <use style=\"fill:#1f77b4;stroke:#1f77b4;\" x=\"303.408549\" xlink:href=\"#m758c21aca9\" y=\"31.909293\"/>\r\n     <use style=\"fill:#1f77b4;stroke:#1f77b4;\" x=\"279.867854\" xlink:href=\"#m758c21aca9\" y=\"33.909547\"/>\r\n     <use style=\"fill:#1f77b4;stroke:#1f77b4;\" x=\"347.126983\" xlink:href=\"#m758c21aca9\" y=\"43.910822\"/>\r\n     <use style=\"fill:#1f77b4;stroke:#1f77b4;\" x=\"64.638642\" xlink:href=\"#m758c21aca9\" y=\"87.916431\"/>\r\n     <use style=\"fill:#1f77b4;stroke:#1f77b4;\" x=\"347.126983\" xlink:href=\"#m758c21aca9\" y=\"83.915921\"/>\r\n     <use style=\"fill:#1f77b4;stroke:#1f77b4;\" x=\"202.519856\" xlink:href=\"#m758c21aca9\" y=\"57.912607\"/>\r\n     <use style=\"fill:#1f77b4;stroke:#1f77b4;\" x=\"310.134462\" xlink:href=\"#m758c21aca9\" y=\"81.915666\"/>\r\n     <use style=\"fill:#1f77b4;stroke:#1f77b4;\" x=\"357.215852\" xlink:href=\"#m758c21aca9\" y=\"91.916941\"/>\r\n     <use style=\"fill:#1f77b4;stroke:#1f77b4;\" x=\"296.682636\" xlink:href=\"#m758c21aca9\" y=\"111.91949\"/>\r\n     <use style=\"fill:#1f77b4;stroke:#1f77b4;\" x=\"101.631163\" xlink:href=\"#m758c21aca9\" y=\"169.926883\"/>\r\n     <use style=\"fill:#1f77b4;stroke:#1f77b4;\" x=\"148.712553\" xlink:href=\"#m758c21aca9\" y=\"203.931217\"/>\r\n     <use style=\"fill:#1f77b4;stroke:#1f77b4;\" x=\"337.038113\" xlink:href=\"#m758c21aca9\" y=\"177.927903\"/>\r\n     <use style=\"fill:#1f77b4;stroke:#1f77b4;\" x=\"101.631163\" xlink:href=\"#m758c21aca9\" y=\"119.92051\"/>\r\n     <use style=\"fill:#1f77b4;stroke:#1f77b4;\" x=\"202.519856\" xlink:href=\"#m758c21aca9\" y=\"211.932237\"/>\r\n     <use style=\"fill:#1f77b4;stroke:#1f77b4;\" x=\"145.349597\" xlink:href=\"#m758c21aca9\" y=\"147.924079\"/>\r\n     <use style=\"fill:#1f77b4;stroke:#1f77b4;\" x=\"300.045593\" xlink:href=\"#m758c21aca9\" y=\"207.931727\"/>\r\n     <use style=\"fill:#1f77b4;stroke:#1f77b4;\" x=\"323.586288\" xlink:href=\"#m758c21aca9\" y=\"17.907508\"/>\r\n    </g>\r\n   </g>\r\n   <g id=\"matplotlib.axis_1\">\r\n    <g id=\"xtick_1\">\r\n     <g id=\"line2d_1\">\r\n      <defs>\r\n       <path d=\"M 0 0 \r\nL 0 3.5 \r\n\" id=\"m2feb17fea4\" style=\"stroke:#000000;stroke-width:0.8;\"/>\r\n      </defs>\r\n      <g>\r\n       <use style=\"stroke:#000000;stroke-width:0.8;\" x=\"58.887334\" xlink:href=\"#m2feb17fea4\" y=\"224.64\"/>\r\n      </g>\r\n     </g>\r\n     <g id=\"text_1\">\r\n      <!-- −1.5 -->\r\n      <defs>\r\n       <path d=\"M 10.59375 35.5 \r\nL 73.1875 35.5 \r\nL 73.1875 27.203125 \r\nL 10.59375 27.203125 \r\nz\r\n\" id=\"DejaVuSans-8722\"/>\r\n       <path d=\"M 12.40625 8.296875 \r\nL 28.515625 8.296875 \r\nL 28.515625 63.921875 \r\nL 10.984375 60.40625 \r\nL 10.984375 69.390625 \r\nL 28.421875 72.90625 \r\nL 38.28125 72.90625 \r\nL 38.28125 8.296875 \r\nL 54.390625 8.296875 \r\nL 54.390625 0 \r\nL 12.40625 0 \r\nz\r\n\" id=\"DejaVuSans-49\"/>\r\n       <path d=\"M 10.6875 12.40625 \r\nL 21 12.40625 \r\nL 21 0 \r\nL 10.6875 0 \r\nz\r\n\" id=\"DejaVuSans-46\"/>\r\n       <path d=\"M 10.796875 72.90625 \r\nL 49.515625 72.90625 \r\nL 49.515625 64.59375 \r\nL 19.828125 64.59375 \r\nL 19.828125 46.734375 \r\nQ 21.96875 47.46875 24.109375 47.828125 \r\nQ 26.265625 48.1875 28.421875 48.1875 \r\nQ 40.625 48.1875 47.75 41.5 \r\nQ 54.890625 34.8125 54.890625 23.390625 \r\nQ 54.890625 11.625 47.5625 5.09375 \r\nQ 40.234375 -1.421875 26.90625 -1.421875 \r\nQ 22.3125 -1.421875 17.546875 -0.640625 \r\nQ 12.796875 0.140625 7.71875 1.703125 \r\nL 7.71875 11.625 \r\nQ 12.109375 9.234375 16.796875 8.0625 \r\nQ 21.484375 6.890625 26.703125 6.890625 \r\nQ 35.15625 6.890625 40.078125 11.328125 \r\nQ 45.015625 15.765625 45.015625 23.390625 \r\nQ 45.015625 31 40.078125 35.4375 \r\nQ 35.15625 39.890625 26.703125 39.890625 \r\nQ 22.75 39.890625 18.8125 39.015625 \r\nQ 14.890625 38.140625 10.796875 36.28125 \r\nz\r\n\" id=\"DejaVuSans-53\"/>\r\n      </defs>\r\n      <g transform=\"translate(46.745928 239.238437)scale(0.1 -0.1)\">\r\n       <use xlink:href=\"#DejaVuSans-8722\"/>\r\n       <use x=\"83.789062\" xlink:href=\"#DejaVuSans-49\"/>\r\n       <use x=\"147.412109\" xlink:href=\"#DejaVuSans-46\"/>\r\n       <use x=\"179.199219\" xlink:href=\"#DejaVuSans-53\"/>\r\n      </g>\r\n     </g>\r\n    </g>\r\n    <g id=\"xtick_2\">\r\n     <g id=\"line2d_2\">\r\n      <g>\r\n       <use style=\"stroke:#000000;stroke-width:0.8;\" x=\"106.249188\" xlink:href=\"#m2feb17fea4\" y=\"224.64\"/>\r\n      </g>\r\n     </g>\r\n     <g id=\"text_2\">\r\n      <!-- −1.0 -->\r\n      <defs>\r\n       <path d=\"M 31.78125 66.40625 \r\nQ 24.171875 66.40625 20.328125 58.90625 \r\nQ 16.5 51.421875 16.5 36.375 \r\nQ 16.5 21.390625 20.328125 13.890625 \r\nQ 24.171875 6.390625 31.78125 6.390625 \r\nQ 39.453125 6.390625 43.28125 13.890625 \r\nQ 47.125 21.390625 47.125 36.375 \r\nQ 47.125 51.421875 43.28125 58.90625 \r\nQ 39.453125 66.40625 31.78125 66.40625 \r\nz\r\nM 31.78125 74.21875 \r\nQ 44.046875 74.21875 50.515625 64.515625 \r\nQ 56.984375 54.828125 56.984375 36.375 \r\nQ 56.984375 17.96875 50.515625 8.265625 \r\nQ 44.046875 -1.421875 31.78125 -1.421875 \r\nQ 19.53125 -1.421875 13.0625 8.265625 \r\nQ 6.59375 17.96875 6.59375 36.375 \r\nQ 6.59375 54.828125 13.0625 64.515625 \r\nQ 19.53125 74.21875 31.78125 74.21875 \r\nz\r\n\" id=\"DejaVuSans-48\"/>\r\n      </defs>\r\n      <g transform=\"translate(94.107782 239.238437)scale(0.1 -0.1)\">\r\n       <use xlink:href=\"#DejaVuSans-8722\"/>\r\n       <use x=\"83.789062\" xlink:href=\"#DejaVuSans-49\"/>\r\n       <use x=\"147.412109\" xlink:href=\"#DejaVuSans-46\"/>\r\n       <use x=\"179.199219\" xlink:href=\"#DejaVuSans-48\"/>\r\n      </g>\r\n     </g>\r\n    </g>\r\n    <g id=\"xtick_3\">\r\n     <g id=\"line2d_3\">\r\n      <g>\r\n       <use style=\"stroke:#000000;stroke-width:0.8;\" x=\"153.611042\" xlink:href=\"#m2feb17fea4\" y=\"224.64\"/>\r\n      </g>\r\n     </g>\r\n     <g id=\"text_3\">\r\n      <!-- −0.5 -->\r\n      <g transform=\"translate(141.469636 239.238437)scale(0.1 -0.1)\">\r\n       <use xlink:href=\"#DejaVuSans-8722\"/>\r\n       <use x=\"83.789062\" xlink:href=\"#DejaVuSans-48\"/>\r\n       <use x=\"147.412109\" xlink:href=\"#DejaVuSans-46\"/>\r\n       <use x=\"179.199219\" xlink:href=\"#DejaVuSans-53\"/>\r\n      </g>\r\n     </g>\r\n    </g>\r\n    <g id=\"xtick_4\">\r\n     <g id=\"line2d_4\">\r\n      <g>\r\n       <use style=\"stroke:#000000;stroke-width:0.8;\" x=\"200.972896\" xlink:href=\"#m2feb17fea4\" y=\"224.64\"/>\r\n      </g>\r\n     </g>\r\n     <g id=\"text_4\">\r\n      <!-- 0.0 -->\r\n      <g transform=\"translate(193.021334 239.238437)scale(0.1 -0.1)\">\r\n       <use xlink:href=\"#DejaVuSans-48\"/>\r\n       <use x=\"63.623047\" xlink:href=\"#DejaVuSans-46\"/>\r\n       <use x=\"95.410156\" xlink:href=\"#DejaVuSans-48\"/>\r\n      </g>\r\n     </g>\r\n    </g>\r\n    <g id=\"xtick_5\">\r\n     <g id=\"line2d_5\">\r\n      <g>\r\n       <use style=\"stroke:#000000;stroke-width:0.8;\" x=\"248.33475\" xlink:href=\"#m2feb17fea4\" y=\"224.64\"/>\r\n      </g>\r\n     </g>\r\n     <g id=\"text_5\">\r\n      <!-- 0.5 -->\r\n      <g transform=\"translate(240.383188 239.238437)scale(0.1 -0.1)\">\r\n       <use xlink:href=\"#DejaVuSans-48\"/>\r\n       <use x=\"63.623047\" xlink:href=\"#DejaVuSans-46\"/>\r\n       <use x=\"95.410156\" xlink:href=\"#DejaVuSans-53\"/>\r\n      </g>\r\n     </g>\r\n    </g>\r\n    <g id=\"xtick_6\">\r\n     <g id=\"line2d_6\">\r\n      <g>\r\n       <use style=\"stroke:#000000;stroke-width:0.8;\" x=\"295.696604\" xlink:href=\"#m2feb17fea4\" y=\"224.64\"/>\r\n      </g>\r\n     </g>\r\n     <g id=\"text_6\">\r\n      <!-- 1.0 -->\r\n      <g transform=\"translate(287.745042 239.238437)scale(0.1 -0.1)\">\r\n       <use xlink:href=\"#DejaVuSans-49\"/>\r\n       <use x=\"63.623047\" xlink:href=\"#DejaVuSans-46\"/>\r\n       <use x=\"95.410156\" xlink:href=\"#DejaVuSans-48\"/>\r\n      </g>\r\n     </g>\r\n    </g>\r\n    <g id=\"xtick_7\">\r\n     <g id=\"line2d_7\">\r\n      <g>\r\n       <use style=\"stroke:#000000;stroke-width:0.8;\" x=\"343.058458\" xlink:href=\"#m2feb17fea4\" y=\"224.64\"/>\r\n      </g>\r\n     </g>\r\n     <g id=\"text_7\">\r\n      <!-- 1.5 -->\r\n      <g transform=\"translate(335.106896 239.238437)scale(0.1 -0.1)\">\r\n       <use xlink:href=\"#DejaVuSans-49\"/>\r\n       <use x=\"63.623047\" xlink:href=\"#DejaVuSans-46\"/>\r\n       <use x=\"95.410156\" xlink:href=\"#DejaVuSans-53\"/>\r\n      </g>\r\n     </g>\r\n    </g>\r\n   </g>\r\n   <g id=\"matplotlib.axis_2\">\r\n    <g id=\"ytick_1\">\r\n     <g id=\"line2d_8\">\r\n      <defs>\r\n       <path d=\"M 0 0 \r\nL -3.5 0 \r\n\" id=\"mf73d2f3269\" style=\"stroke:#000000;stroke-width:0.8;\"/>\r\n      </defs>\r\n      <g>\r\n       <use style=\"stroke:#000000;stroke-width:0.8;\" x=\"38.482813\" xlink:href=\"#mf73d2f3269\" y=\"197.530305\"/>\r\n      </g>\r\n     </g>\r\n     <g id=\"text_8\">\r\n      <!-- −1.5 -->\r\n      <g transform=\"translate(7.2 201.329524)scale(0.1 -0.1)\">\r\n       <use xlink:href=\"#DejaVuSans-8722\"/>\r\n       <use x=\"83.789062\" xlink:href=\"#DejaVuSans-49\"/>\r\n       <use x=\"147.412109\" xlink:href=\"#DejaVuSans-46\"/>\r\n       <use x=\"179.199219\" xlink:href=\"#DejaVuSans-53\"/>\r\n      </g>\r\n     </g>\r\n    </g>\r\n    <g id=\"ytick_2\">\r\n     <g id=\"line2d_9\">\r\n      <g>\r\n       <use style=\"stroke:#000000;stroke-width:0.8;\" x=\"38.482813\" xlink:href=\"#mf73d2f3269\" y=\"167.673199\"/>\r\n      </g>\r\n     </g>\r\n     <g id=\"text_9\">\r\n      <!-- −1.0 -->\r\n      <g transform=\"translate(7.2 171.472418)scale(0.1 -0.1)\">\r\n       <use xlink:href=\"#DejaVuSans-8722\"/>\r\n       <use x=\"83.789062\" xlink:href=\"#DejaVuSans-49\"/>\r\n       <use x=\"147.412109\" xlink:href=\"#DejaVuSans-46\"/>\r\n       <use x=\"179.199219\" xlink:href=\"#DejaVuSans-48\"/>\r\n      </g>\r\n     </g>\r\n    </g>\r\n    <g id=\"ytick_3\">\r\n     <g id=\"line2d_10\">\r\n      <g>\r\n       <use style=\"stroke:#000000;stroke-width:0.8;\" x=\"38.482813\" xlink:href=\"#mf73d2f3269\" y=\"137.816092\"/>\r\n      </g>\r\n     </g>\r\n     <g id=\"text_10\">\r\n      <!-- −0.5 -->\r\n      <g transform=\"translate(7.2 141.615311)scale(0.1 -0.1)\">\r\n       <use xlink:href=\"#DejaVuSans-8722\"/>\r\n       <use x=\"83.789062\" xlink:href=\"#DejaVuSans-48\"/>\r\n       <use x=\"147.412109\" xlink:href=\"#DejaVuSans-46\"/>\r\n       <use x=\"179.199219\" xlink:href=\"#DejaVuSans-53\"/>\r\n      </g>\r\n     </g>\r\n    </g>\r\n    <g id=\"ytick_4\">\r\n     <g id=\"line2d_11\">\r\n      <g>\r\n       <use style=\"stroke:#000000;stroke-width:0.8;\" x=\"38.482813\" xlink:href=\"#mf73d2f3269\" y=\"107.958985\"/>\r\n      </g>\r\n     </g>\r\n     <g id=\"text_11\">\r\n      <!-- 0.0 -->\r\n      <g transform=\"translate(15.579688 111.758204)scale(0.1 -0.1)\">\r\n       <use xlink:href=\"#DejaVuSans-48\"/>\r\n       <use x=\"63.623047\" xlink:href=\"#DejaVuSans-46\"/>\r\n       <use x=\"95.410156\" xlink:href=\"#DejaVuSans-48\"/>\r\n      </g>\r\n     </g>\r\n    </g>\r\n    <g id=\"ytick_5\">\r\n     <g id=\"line2d_12\">\r\n      <g>\r\n       <use style=\"stroke:#000000;stroke-width:0.8;\" x=\"38.482813\" xlink:href=\"#mf73d2f3269\" y=\"78.101879\"/>\r\n      </g>\r\n     </g>\r\n     <g id=\"text_12\">\r\n      <!-- 0.5 -->\r\n      <g transform=\"translate(15.579688 81.901097)scale(0.1 -0.1)\">\r\n       <use xlink:href=\"#DejaVuSans-48\"/>\r\n       <use x=\"63.623047\" xlink:href=\"#DejaVuSans-46\"/>\r\n       <use x=\"95.410156\" xlink:href=\"#DejaVuSans-53\"/>\r\n      </g>\r\n     </g>\r\n    </g>\r\n    <g id=\"ytick_6\">\r\n     <g id=\"line2d_13\">\r\n      <g>\r\n       <use style=\"stroke:#000000;stroke-width:0.8;\" x=\"38.482813\" xlink:href=\"#mf73d2f3269\" y=\"48.244772\"/>\r\n      </g>\r\n     </g>\r\n     <g id=\"text_13\">\r\n      <!-- 1.0 -->\r\n      <g transform=\"translate(15.579688 52.043991)scale(0.1 -0.1)\">\r\n       <use xlink:href=\"#DejaVuSans-49\"/>\r\n       <use x=\"63.623047\" xlink:href=\"#DejaVuSans-46\"/>\r\n       <use x=\"95.410156\" xlink:href=\"#DejaVuSans-48\"/>\r\n      </g>\r\n     </g>\r\n    </g>\r\n    <g id=\"ytick_7\">\r\n     <g id=\"line2d_14\">\r\n      <g>\r\n       <use style=\"stroke:#000000;stroke-width:0.8;\" x=\"38.482813\" xlink:href=\"#mf73d2f3269\" y=\"18.387665\"/>\r\n      </g>\r\n     </g>\r\n     <g id=\"text_14\">\r\n      <!-- 1.5 -->\r\n      <g transform=\"translate(15.579688 22.186884)scale(0.1 -0.1)\">\r\n       <use xlink:href=\"#DejaVuSans-49\"/>\r\n       <use x=\"63.623047\" xlink:href=\"#DejaVuSans-46\"/>\r\n       <use x=\"95.410156\" xlink:href=\"#DejaVuSans-53\"/>\r\n      </g>\r\n     </g>\r\n    </g>\r\n   </g>\r\n   <g id=\"patch_3\">\r\n    <path d=\"M 38.482813 224.64 \r\nL 38.482813 7.2 \r\n\" style=\"fill:none;stroke:#000000;stroke-linecap:square;stroke-linejoin:miter;stroke-width:0.8;\"/>\r\n   </g>\r\n   <g id=\"patch_4\">\r\n    <path d=\"M 373.282813 224.64 \r\nL 373.282813 7.2 \r\n\" style=\"fill:none;stroke:#000000;stroke-linecap:square;stroke-linejoin:miter;stroke-width:0.8;\"/>\r\n   </g>\r\n   <g id=\"patch_5\">\r\n    <path d=\"M 38.482812 224.64 \r\nL 373.282813 224.64 \r\n\" style=\"fill:none;stroke:#000000;stroke-linecap:square;stroke-linejoin:miter;stroke-width:0.8;\"/>\r\n   </g>\r\n   <g id=\"patch_6\">\r\n    <path d=\"M 38.482812 7.2 \r\nL 373.282813 7.2 \r\n\" style=\"fill:none;stroke:#000000;stroke-linecap:square;stroke-linejoin:miter;stroke-width:0.8;\"/>\r\n   </g>\r\n  </g>\r\n </g>\r\n <defs>\r\n  <clipPath id=\"p1826bd9e36\">\r\n   <rect height=\"217.44\" width=\"334.8\" x=\"38.482813\" y=\"7.2\"/>\r\n  </clipPath>\r\n </defs>\r\n</svg>\r\n",
      "text/plain": "<Figure size 432x288 with 1 Axes>"
     },
     "metadata": {
      "needs_background": "light"
     },
     "output_type": "display_data"
    }
   ],
   "source": [
    "plt.scatter(X2[:, 0], X2[:, 1])\n",
    "plt.show()"
   ]
  },
  {
   "cell_type": "code",
   "execution_count": 18,
   "metadata": {},
   "outputs": [
    {
     "data": {
      "text/plain": "4.884981308350689e-17"
     },
     "execution_count": 18,
     "metadata": {},
     "output_type": "execute_result"
    }
   ],
   "source": [
    "np.mean(X2[:, 0])"
   ]
  },
  {
   "cell_type": "code",
   "execution_count": 19,
   "metadata": {},
   "outputs": [
    {
     "data": {
      "text/plain": "1.376676550535194e-16"
     },
     "execution_count": 19,
     "metadata": {},
     "output_type": "execute_result"
    }
   ],
   "source": [
    "np.mean(X2[:, 1])"
   ]
  },
  {
   "cell_type": "code",
   "execution_count": 20,
   "metadata": {},
   "outputs": [
    {
     "data": {
      "text/plain": "1.0"
     },
     "execution_count": 20,
     "metadata": {},
     "output_type": "execute_result"
    }
   ],
   "source": [
    "np.std(X2[:, 0])"
   ]
  },
  {
   "cell_type": "code",
   "execution_count": 21,
   "metadata": {},
   "outputs": [
    {
     "data": {
      "text/plain": "1.0"
     },
     "execution_count": 21,
     "metadata": {},
     "output_type": "execute_result"
    }
   ],
   "source": [
    "np.std(X2[:, 1])"
   ]
  },
  {
   "cell_type": "code",
   "execution_count": null,
   "metadata": {},
   "outputs": [],
   "source": []
  }
 ]
}