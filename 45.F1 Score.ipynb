{
 "nbformat": 4,
 "nbformat_minor": 2,
 "metadata": {
  "language_info": {
   "name": "python",
   "codemirror_mode": {
    "name": "ipython",
    "version": 3
   },
   "version": "3.7.3-final"
  },
  "orig_nbformat": 2,
  "file_extension": ".py",
  "mimetype": "text/x-python",
  "name": "python",
  "npconvert_exporter": "python",
  "pygments_lexer": "ipython3",
  "version": 3,
  "kernelspec": {
   "name": "python37364bit41788aecbabd4eb9b717571ff254e7d9",
   "display_name": "Python 3.7.3 64-bit"
  }
 },
 "cells": [
  {
   "cell_type": "markdown",
   "execution_count": null,
   "metadata": {},
   "outputs": [],
   "source": [
    "# F1 Score"
   ]
  },
  {
   "cell_type": "code",
   "execution_count": 23,
   "metadata": {},
   "outputs": [],
   "source": [
    "import numpy as np\n",
    "import matplotlib.pyplot as plt"
   ]
  },
  {
   "cell_type": "code",
   "execution_count": 24,
   "metadata": {},
   "outputs": [],
   "source": [
    "def f1_score(precision, recall):\n",
    "    try: \n",
    "        return 2*precision*recall / (precision + recall)\n",
    "    except:\n",
    "        return 0.0"
   ]
  },
  {
   "cell_type": "code",
   "execution_count": 25,
   "metadata": {},
   "outputs": [
    {
     "data": {
      "text/plain": "0.5"
     },
     "execution_count": 25,
     "metadata": {},
     "output_type": "execute_result"
    }
   ],
   "source": [
    "precision = 0.5\n",
    "recall = 0.5\n",
    "\n",
    "f1_score(precision, recall)"
   ]
  },
  {
   "cell_type": "code",
   "execution_count": 26,
   "metadata": {},
   "outputs": [
    {
     "data": {
      "text/plain": "0.18000000000000002"
     },
     "execution_count": 26,
     "metadata": {},
     "output_type": "execute_result"
    }
   ],
   "source": [
    "precision = 0.1\n",
    "recall = 0.9\n",
    "\n",
    "f1_score(precision, recall)"
   ]
  },
  {
   "cell_type": "code",
   "execution_count": 27,
   "metadata": {},
   "outputs": [],
   "source": [
    "from sklearn import datasets\n",
    "\n",
    "digits = datasets.load_digits()\n",
    "X = digits.data\n",
    "y = digits.target.copy()\n",
    "\n",
    "y[digits.target==9] = 1\n",
    "y[digits.target!=9] = 0"
   ]
  },
  {
   "cell_type": "code",
   "execution_count": 28,
   "metadata": {},
   "outputs": [],
   "source": [
    "from sklearn.model_selection import train_test_split\n",
    "\n",
    "X_train, X_test, y_train, y_test = train_test_split(X, y, random_state=666)"
   ]
  },
  {
   "cell_type": "code",
   "execution_count": 29,
   "metadata": {},
   "outputs": [
    {
     "data": {
      "text/plain": "0.9755555555555555"
     },
     "execution_count": 29,
     "metadata": {},
     "output_type": "execute_result"
    }
   ],
   "source": [
    "from sklearn.linear_model import LogisticRegression\n",
    "\n",
    "log_reg = LogisticRegression()\n",
    "log_reg.fit(X_train, y_train)\n",
    "log_reg.score(X_test, y_test)"
   ]
  },
  {
   "cell_type": "code",
   "execution_count": 30,
   "metadata": {},
   "outputs": [],
   "source": [
    "y_predict = log_reg.predict(X_test)"
   ]
  },
  {
   "cell_type": "code",
   "execution_count": 31,
   "metadata": {},
   "outputs": [
    {
     "data": {
      "text/plain": "array([[403,   2],\n       [  9,  36]], dtype=int64)"
     },
     "execution_count": 31,
     "metadata": {},
     "output_type": "execute_result"
    }
   ],
   "source": [
    "from sklearn.metrics import confusion_matrix\n",
    "\n",
    "confusion_matrix(y_test, y_predict)"
   ]
  },
  {
   "cell_type": "code",
   "execution_count": 32,
   "metadata": {},
   "outputs": [
    {
     "data": {
      "text/plain": "0.9473684210526315"
     },
     "execution_count": 32,
     "metadata": {},
     "output_type": "execute_result"
    }
   ],
   "source": [
    "from sklearn.metrics import precision_score\n",
    "\n",
    "precision_score(y_test, y_predict)"
   ]
  },
  {
   "cell_type": "code",
   "execution_count": 33,
   "metadata": {},
   "outputs": [
    {
     "data": {
      "text/plain": "0.8"
     },
     "execution_count": 33,
     "metadata": {},
     "output_type": "execute_result"
    }
   ],
   "source": [
    "from sklearn.metrics import recall_score\n",
    "\n",
    "recall_score(y_test, y_predict)"
   ]
  },
  {
   "cell_type": "code",
   "execution_count": 34,
   "metadata": {},
   "outputs": [
    {
     "data": {
      "text/plain": "0.8674698795180723"
     },
     "execution_count": 34,
     "metadata": {},
     "output_type": "execute_result"
    }
   ],
   "source": [
    "from sklearn.metrics import f1_score\n",
    "\n",
    "f1_score(y_test, y_predict)"
   ]
  },
  {
   "cell_type": "markdown",
   "metadata": {},
   "source": [
    "## 精准率与召回率的平衡"
   ]
  },
  {
   "cell_type": "code",
   "execution_count": 35,
   "metadata": {},
   "outputs": [
    {
     "data": {
      "text/plain": "array([-22.05698872, -33.0294801 , -16.21340124, -80.37927135,\n       -48.2512484 , -24.54011888, -44.39165518, -25.04307342,\n        -0.97825932, -19.7175234 , -66.25139047, -51.09618762,\n       -31.49353062, -46.05326549, -38.67891437, -29.80475821,\n       -37.58859784, -82.5757588 , -37.81913688, -11.01165136,\n        -9.17440891, -85.13009105, -16.71605329, -46.23739157,\n        -5.33004151, -47.91760576, -11.66736692, -39.19642117,\n       -25.25302546, -14.36644282, -16.99792558, -28.91917652,\n       -34.33955757, -29.47642261,  -7.85813385,  -3.82079588,\n       -24.08193513, -22.16361045, -33.61241617, -23.14032762,\n       -26.91815785, -62.38948524, -38.85707838, -66.77271748,\n       -20.14486056, -17.47888542, -18.06800584, -22.22236762,\n       -29.62315097, -19.73166906,   1.49551355,   8.32089659,\n       -36.29344303, -42.50742316, -25.90456531, -34.98970987,\n        -8.42024407, -50.04735304, -51.48216029,  19.88973194,\n        -8.91891746, -31.99354552, -11.66113907,  -0.47145712,\n       -49.16137636, -46.23835512, -25.05388239, -19.61355006,\n       -36.16650849,  -3.12533987,  -3.91413058, -19.06042147,\n       -21.03323686, -41.52272878, -12.00619211, -33.89303091,\n       -35.84814183, -30.60504247, -56.51660652, -18.4547565 ,\n         4.51551325, -17.21615163, -76.65097849, -58.54532771,\n       -31.72117371, -29.90840449, -33.31906045,  -9.0875333 ,\n       -47.64441701, -66.15312219, -16.95637421, -22.24908538,\n       -11.48964713, -18.10556865, -68.65405339, -47.02586903,\n       -40.11866452, -35.50216814, -17.19767512, -63.10290008,\n       -16.9546032 , -55.10239451, -28.71265753, -68.81586482,\n       -68.31034282,  -6.25934965, -25.84008154, -38.00881123,\n       -27.90924338, -15.44717957, -27.45900426, -19.5976657 ,\n        12.33460655, -23.03876984, -35.94470115, -30.02834799,\n       -70.06685276, -29.48767164, -52.98839219, -24.97027505,\n       -12.32853039, -48.00995603,  -2.49972865, -59.92460675,\n       -31.18127288,  -8.65734144, -71.34899276, -57.01135964,\n       -21.0986708 , -21.53845986, -69.34320636, -18.63535706,\n       -39.91471335, -57.26582665,  -0.84508898, -21.88386878,\n       -22.64111696, -29.21278183, -35.15724809, -20.25867608,\n       -11.40278018,   3.87276701,   6.09011091,   1.42882485,\n        -7.8273015 , -39.35184279,  12.21059287, -75.10176905,\n       -75.38140082, -50.41816394, -11.55435713, -48.45875145,\n       -75.44096549, -29.98054958, -64.11564617,  -7.16580942,\n        -6.52461792, -18.97244472, -33.716424  , -17.7622458 ,\n       -45.594027  , -33.53745689, -34.08703685, -73.31506405,\n       -15.43463932,  12.16762149, -56.45932999,  -6.03189767,\n       -49.08455379, -16.54215472,  -2.05945317, -11.81051074,\n       -33.47418259, -50.77179487, -10.62913843, -17.67511993,\n        -5.07842565, -25.25786825, -16.61525621,   3.9112817 ,\n       -46.75633535, -12.89878225, -25.74791948, -16.31797131,\n       -23.55130914, -83.48231427,  -6.23504116, -19.83961243,\n       -20.06248447, -26.65476229, -27.11300968, -39.63709773,\n       -39.81336953, -27.43680637, -24.1182702 , -21.24529039,\n       -10.4981574 , -19.39901887, -41.95771459, -43.62363958,\n       -16.06842434, -64.09610268, -24.7546272 , -56.57394007,\n       -13.50001754, -30.01594675,   3.93722785, -44.71710749,\n        -8.69370631,   1.58885671,  -2.76257484, -11.91881439,\n         7.58790586,  -7.2590087 , -46.73810278, -49.19665266,\n        -4.80432917, -19.61035266, -24.30551049, -48.98803242,\n       -14.98152109, -24.83600881, -16.93963283, -19.46807823,\n       -15.77219808, -17.0011937 , -39.23716673, -31.37467057,\n        -9.42209319, -71.3817235 , -22.1749601 , -14.72994074,\n       -23.5799192 , -34.49391027,  -1.17638648, -32.90832649,\n       -10.82268773, -18.26227727,  -8.29328162, -44.84204428,\n       -22.59261358, -61.73620794, -47.13003404, -65.62606833,\n       -33.36473191, -24.00474611, -29.33171683, -65.22710732,\n         1.43992703,  -4.5608988 , -25.25863092, -22.4649466 ,\n       -54.43087702, -16.81740654, -11.28751099, -35.25853011,\n        -5.57318951, -14.93105708, -70.95359094,  -6.50490429,\n        -1.22938485, -37.87561152, -23.68955227, -68.29973058,\n        14.93794628, -62.55691607,  10.14792053, -24.44801441,\n       -32.85381974, -14.32959865, -85.68618467, -13.16406988,\n         9.27801   , -17.32743816, -36.06512487, -17.04727158,\n       -19.71320736, -32.72667197,  -5.36349621,   7.68314214,\n         9.20404898,   5.76538045, -35.96370351, -13.02393837,\n       -54.87493481, -41.61773754,   5.93726535, -79.11928851,\n       -16.01404667, -19.72194108, -10.96325193, -42.55199208,\n       -19.70976825, -16.20514989, -18.68739999, -17.9440181 ,\n        -7.17473814, -20.54730127, -16.8107817 , -70.69034444,\n        -9.81784702, -32.87070537, -18.97789853, -21.37916781,\n       -25.15061777, -17.11009235, -13.52376452, -23.76131982,\n        11.36502882, -14.50018675, -33.86340685, -13.71703506,\n       -50.52185288, -20.26644451, -56.1271267 , -29.2429583 ,\n       -22.10084505, -31.39327629, -68.99348458, -60.34426325,\n        14.35293265,   8.69500979, -25.31390824,   2.3829178 ,\n         5.04569084, -19.56499769, -59.19939343, -10.05796778,\n       -29.66237873, -27.40214192,   6.1300753 , -80.46972228,\n       -34.87558465, -49.84659787, -36.03973884, -48.50247472,\n       -19.96827438, -62.05778971,  -3.23800757, -25.32920937,\n       -65.14042728,  -9.42743013, -23.31766009,  19.38637326,\n       -18.84554578,  -4.47311855, -13.77219909, -21.88106603,\n       -43.41391564, -51.85056265, -28.83924612, -13.9046646 ,\n        -2.51945603,  -6.16008819,   3.14860236, -15.33996286,\n       -41.1664474 , -25.89759335,  14.30199564, -17.8883397 ,\n        14.67474635, -33.65780656,   4.82438663, -14.42665114,\n       -54.22964055, -50.49150156, -30.54696184, -38.72582563,\n       -23.46192478, -24.87737621, -14.50557789, -23.72488581,\n       -28.070186  , -19.63719052, -28.66201262, -20.37716039,\n       -32.16780181, -11.15577107, -17.95943657, -24.54367786,\n       -24.60826536,  10.73697957, -16.68565566, -38.50795543,\n       -15.87669128, -37.0528315 , -15.79384794, -68.69482442,\n       -33.6483545 , -43.60842934, -28.74781917,  -9.88965813,\n       -67.1646608 , -33.49910148, -45.89925587, -14.36725872,\n       -38.29027285, -14.76249554, -70.4423832 , -11.19639639,\n       -41.46521332, -32.38985792, -20.86109734, -27.68970337,\n       -16.06089522, -31.96321347,  -8.48422838, -22.10461886,\n       -34.06038464, -12.47071332, -36.1512036 , -36.57988244,\n       -22.46161667,   4.47533437, -20.80773251,  -3.75029412,\n       -20.31645815, -32.67842475, -41.10720675, -25.46035204,\n       -19.73677233, -47.83304387, -29.85797213, -45.24596852,\n       -71.65713046,  -5.93549937, -32.93696275,   1.89652574,\n        11.76391474,   7.35786313, -30.9318989 , -63.9425053 ,\n       -23.41425774,  -5.43428587, -33.46425022, -24.11260066,\n       -67.49716028, -34.30090763, -34.23333819, -31.61602164,\n       -52.86805028, -22.89232351,  -8.16017785, -17.73992103,\n       -26.98692336, -32.38798941, -28.96100525, -67.25187169,\n       -46.49556262, -16.11291614])"
     },
     "execution_count": 35,
     "metadata": {},
     "output_type": "execute_result"
    }
   ],
   "source": [
    "log_reg.decision_function(X_test)"
   ]
  },
  {
   "cell_type": "code",
   "execution_count": 36,
   "metadata": {},
   "outputs": [
    {
     "data": {
      "text/plain": "array([-22.05698872, -33.0294801 , -16.21340124, -80.37927135,\n       -48.2512484 , -24.54011888, -44.39165518, -25.04307342,\n        -0.97825932, -19.7175234 ])"
     },
     "execution_count": 36,
     "metadata": {},
     "output_type": "execute_result"
    }
   ],
   "source": [
    "log_reg.decision_function(X_test)[:10]"
   ]
  },
  {
   "cell_type": "code",
   "execution_count": 37,
   "metadata": {},
   "outputs": [
    {
     "data": {
      "text/plain": "array([0, 0, 0, 0, 0, 0, 0, 0, 0, 0])"
     },
     "execution_count": 37,
     "metadata": {},
     "output_type": "execute_result"
    }
   ],
   "source": [
    "log_reg.predict(X_test)[:10]"
   ]
  },
  {
   "cell_type": "code",
   "execution_count": 38,
   "metadata": {},
   "outputs": [],
   "source": [
    "decision_scores = log_reg.decision_function(X_test)"
   ]
  },
  {
   "cell_type": "code",
   "execution_count": 39,
   "metadata": {},
   "outputs": [],
   "source": [
    "y_predict_2 = np.array(decision_scores >=5, dtype='int')"
   ]
  },
  {
   "cell_type": "code",
   "execution_count": 40,
   "metadata": {},
   "outputs": [
    {
     "data": {
      "text/plain": "array([[404,   1],\n       [ 21,  24]], dtype=int64)"
     },
     "execution_count": 40,
     "metadata": {},
     "output_type": "execute_result"
    }
   ],
   "source": [
    "confusion_matrix(y_test, y_predict_2)"
   ]
  },
  {
   "cell_type": "code",
   "execution_count": 41,
   "metadata": {},
   "outputs": [
    {
     "data": {
      "text/plain": "0.96"
     },
     "execution_count": 41,
     "metadata": {},
     "output_type": "execute_result"
    }
   ],
   "source": [
    "precision_score(y_test, y_predict_2)"
   ]
  },
  {
   "cell_type": "code",
   "execution_count": 42,
   "metadata": {},
   "outputs": [
    {
     "data": {
      "text/plain": "0.5333333333333333"
     },
     "execution_count": 42,
     "metadata": {},
     "output_type": "execute_result"
    }
   ],
   "source": [
    "recall_score(y_test, y_predict_2)"
   ]
  },
  {
   "cell_type": "code",
   "execution_count": 43,
   "metadata": {},
   "outputs": [],
   "source": [
    "y_predict_3 = np.array(decision_scores >=-5, dtype='int')"
   ]
  },
  {
   "cell_type": "code",
   "execution_count": 44,
   "metadata": {},
   "outputs": [
    {
     "data": {
      "text/plain": "array([[390,  15],\n       [  5,  40]], dtype=int64)"
     },
     "execution_count": 44,
     "metadata": {},
     "output_type": "execute_result"
    }
   ],
   "source": [
    "confusion_matrix(y_test, y_predict_3)"
   ]
  },
  {
   "cell_type": "code",
   "execution_count": 45,
   "metadata": {},
   "outputs": [
    {
     "data": {
      "text/plain": "0.7272727272727273"
     },
     "execution_count": 45,
     "metadata": {},
     "output_type": "execute_result"
    }
   ],
   "source": [
    "precision_score(y_test, y_predict_3)"
   ]
  },
  {
   "cell_type": "code",
   "execution_count": 46,
   "metadata": {},
   "outputs": [
    {
     "data": {
      "text/plain": "0.8888888888888888"
     },
     "execution_count": 46,
     "metadata": {},
     "output_type": "execute_result"
    }
   ],
   "source": [
    "recall_score(y_test, y_predict_3)"
   ]
  },
  {
   "cell_type": "code",
   "execution_count": null,
   "metadata": {},
   "outputs": [],
   "source": []
  }
 ]
}